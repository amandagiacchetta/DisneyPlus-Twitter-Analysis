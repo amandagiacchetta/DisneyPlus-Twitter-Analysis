{
 "cells": [
  {
   "cell_type": "code",
   "execution_count": 50,
   "metadata": {},
   "outputs": [],
   "source": [
    "import pandas as pd \n",
    "import numpy as np\n",
    "import networkx as nx"
   ]
  },
  {
   "cell_type": "markdown",
   "metadata": {},
   "source": [
    "## Opening Data"
   ]
  },
  {
   "cell_type": "code",
   "execution_count": 45,
   "metadata": {},
   "outputs": [],
   "source": [
    "df = pd.read_pickle('C:/Users/amand/Documents/Jupyter Notebooks/DisneyPlus/Data/pickles.pkl')"
   ]
  },
  {
   "cell_type": "markdown",
   "metadata": {},
   "source": [
    "## Cleaning Dataframe"
   ]
  },
  {
   "cell_type": "code",
   "execution_count": 38,
   "metadata": {},
   "outputs": [],
   "source": [
    "graph_columns = ['user_screen_name', 'user_id', 'user_is_verified', 'retweeted_from_screen_name', 'retweeted_from_id', 'retweeted_from_is_verified', 'screen_name_mention_1' , 'id_mention_1', 'in_reply_to_screen_name', 'in_reply_to_user_id', 'created_at', 'id', 'text']"
   ]
  },
  {
   "cell_type": "code",
   "execution_count": 46,
   "metadata": {},
   "outputs": [],
   "source": [
    "df = df[graph_columns]"
   ]
  },
  {
   "cell_type": "code",
   "execution_count": 47,
   "metadata": {},
   "outputs": [
    {
     "data": {
      "text/html": [
       "<div>\n",
       "<style scoped>\n",
       "    .dataframe tbody tr th:only-of-type {\n",
       "        vertical-align: middle;\n",
       "    }\n",
       "\n",
       "    .dataframe tbody tr th {\n",
       "        vertical-align: top;\n",
       "    }\n",
       "\n",
       "    .dataframe thead th {\n",
       "        text-align: right;\n",
       "    }\n",
       "</style>\n",
       "<table border=\"1\" class=\"dataframe\">\n",
       "  <thead>\n",
       "    <tr style=\"text-align: right;\">\n",
       "      <th></th>\n",
       "      <th>user_screen_name</th>\n",
       "      <th>user_id</th>\n",
       "      <th>user_is_verified</th>\n",
       "      <th>retweeted_from_screen_name</th>\n",
       "      <th>retweeted_from_id</th>\n",
       "      <th>retweeted_from_is_verified</th>\n",
       "      <th>screen_name_mention_1</th>\n",
       "      <th>id_mention_1</th>\n",
       "      <th>in_reply_to_screen_name</th>\n",
       "      <th>in_reply_to_user_id</th>\n",
       "      <th>created_at</th>\n",
       "      <th>id</th>\n",
       "      <th>text</th>\n",
       "    </tr>\n",
       "  </thead>\n",
       "  <tbody>\n",
       "    <tr>\n",
       "      <th>0</th>\n",
       "      <td>ironboyxs</td>\n",
       "      <td>3461849895</td>\n",
       "      <td>False</td>\n",
       "      <td>AAssembleBR</td>\n",
       "      <td>1.073608e+18</td>\n",
       "      <td>False</td>\n",
       "      <td>AAssembleBR</td>\n",
       "      <td>1073607966954307585</td>\n",
       "      <td>None</td>\n",
       "      <td>NaN</td>\n",
       "      <td>Wed Nov 11 17:17:30 +0000 2020</td>\n",
       "      <td>1326574785564971013</td>\n",
       "      <td>RT @AAssembleBR: 📎 Aparentemente, a Disney pre...</td>\n",
       "    </tr>\n",
       "    <tr>\n",
       "      <th>1</th>\n",
       "      <td>Eternalstwc</td>\n",
       "      <td>1075866103455342594</td>\n",
       "      <td>False</td>\n",
       "      <td>juslxrson</td>\n",
       "      <td>7.002257e+07</td>\n",
       "      <td>False</td>\n",
       "      <td>juslxrson</td>\n",
       "      <td>70022571</td>\n",
       "      <td>None</td>\n",
       "      <td>NaN</td>\n",
       "      <td>Wed Nov 11 17:16:53 +0000 2020</td>\n",
       "      <td>1326574630866477060</td>\n",
       "      <td>RT @juslxrson: A Brie Larson é perspicaz em tu...</td>\n",
       "    </tr>\n",
       "    <tr>\n",
       "      <th>2</th>\n",
       "      <td>molten16yt</td>\n",
       "      <td>1077379710307295232</td>\n",
       "      <td>False</td>\n",
       "      <td>NaN</td>\n",
       "      <td>NaN</td>\n",
       "      <td>NaN</td>\n",
       "      <td>Sellyxeee</td>\n",
       "      <td>1325333625580228610</td>\n",
       "      <td>Sellyxeee</td>\n",
       "      <td>1.325334e+18</td>\n",
       "      <td>Wed Nov 11 17:13:17 +0000 2020</td>\n",
       "      <td>1326573727186735104</td>\n",
       "      <td>@Sellyxeee @TaylorrHits @FortniteGame @disneyp...</td>\n",
       "    </tr>\n",
       "    <tr>\n",
       "      <th>3</th>\n",
       "      <td>ramoslilyz</td>\n",
       "      <td>1290732588638842881</td>\n",
       "      <td>False</td>\n",
       "      <td>NaN</td>\n",
       "      <td>NaN</td>\n",
       "      <td>NaN</td>\n",
       "      <td>FortniteGame</td>\n",
       "      <td>425871040</td>\n",
       "      <td>FortniteGame</td>\n",
       "      <td>4.258710e+08</td>\n",
       "      <td>Wed Nov 11 17:09:14 +0000 2020</td>\n",
       "      <td>1326572708310773760</td>\n",
       "      <td>@FortniteGame @disneyplus legal, mas trazer a ...</td>\n",
       "    </tr>\n",
       "    <tr>\n",
       "      <th>4</th>\n",
       "      <td>verligameplay</td>\n",
       "      <td>3249089548</td>\n",
       "      <td>False</td>\n",
       "      <td>NaN</td>\n",
       "      <td>NaN</td>\n",
       "      <td>NaN</td>\n",
       "      <td>NaN</td>\n",
       "      <td>NaN</td>\n",
       "      <td>None</td>\n",
       "      <td>NaN</td>\n",
       "      <td>Wed Nov 11 17:04:40 +0000 2020</td>\n",
       "      <td>1326571558849097728</td>\n",
       "      <td>Brasil ficou fora, que pena kkk #Fortnite #Dis...</td>\n",
       "    </tr>\n",
       "    <tr>\n",
       "      <th>5</th>\n",
       "      <td>Pytok0</td>\n",
       "      <td>905232868091277313</td>\n",
       "      <td>False</td>\n",
       "      <td>GN_GeekNation</td>\n",
       "      <td>8.841859e+17</td>\n",
       "      <td>False</td>\n",
       "      <td>GN_GeekNation</td>\n",
       "      <td>884185909368901633</td>\n",
       "      <td>None</td>\n",
       "      <td>NaN</td>\n",
       "      <td>Wed Nov 11 16:50:43 +0000 2020</td>\n",
       "      <td>1326568048631959555</td>\n",
       "      <td>RT @GN_GeekNation: Confira o trailer de 'Black...</td>\n",
       "    </tr>\n",
       "    <tr>\n",
       "      <th>6</th>\n",
       "      <td>Pytok0</td>\n",
       "      <td>905232868091277313</td>\n",
       "      <td>False</td>\n",
       "      <td>AAssembleBR</td>\n",
       "      <td>1.073608e+18</td>\n",
       "      <td>False</td>\n",
       "      <td>AAssembleBR</td>\n",
       "      <td>1073607966954307585</td>\n",
       "      <td>None</td>\n",
       "      <td>NaN</td>\n",
       "      <td>Wed Nov 11 16:50:21 +0000 2020</td>\n",
       "      <td>1326567954067107841</td>\n",
       "      <td>RT @AAssembleBR: 📎 Aparentemente, a Disney pre...</td>\n",
       "    </tr>\n",
       "    <tr>\n",
       "      <th>7</th>\n",
       "      <td>alviinhomcd</td>\n",
       "      <td>107576649</td>\n",
       "      <td>False</td>\n",
       "      <td>whoisjupa</td>\n",
       "      <td>4.669161e+07</td>\n",
       "      <td>False</td>\n",
       "      <td>whoisjupa</td>\n",
       "      <td>46691612</td>\n",
       "      <td>None</td>\n",
       "      <td>NaN</td>\n",
       "      <td>Wed Nov 11 16:48:14 +0000 2020</td>\n",
       "      <td>1326567421839372290</td>\n",
       "      <td>RT @whoisjupa: Disney+ anuncia remake de O Rei...</td>\n",
       "    </tr>\n",
       "    <tr>\n",
       "      <th>8</th>\n",
       "      <td>DaviT_Lunardi</td>\n",
       "      <td>1257785067541233664</td>\n",
       "      <td>False</td>\n",
       "      <td>NaN</td>\n",
       "      <td>NaN</td>\n",
       "      <td>NaN</td>\n",
       "      <td>NaN</td>\n",
       "      <td>NaN</td>\n",
       "      <td>None</td>\n",
       "      <td>NaN</td>\n",
       "      <td>Wed Nov 11 16:43:50 +0000 2020</td>\n",
       "      <td>1326566314383650816</td>\n",
       "      <td>Tem como chegar logo? \\n#DisneyPlus</td>\n",
       "    </tr>\n",
       "    <tr>\n",
       "      <th>9</th>\n",
       "      <td>callowarner</td>\n",
       "      <td>2866283354</td>\n",
       "      <td>False</td>\n",
       "      <td>NaN</td>\n",
       "      <td>NaN</td>\n",
       "      <td>NaN</td>\n",
       "      <td>NaN</td>\n",
       "      <td>NaN</td>\n",
       "      <td>None</td>\n",
       "      <td>NaN</td>\n",
       "      <td>Wed Nov 11 16:38:49 +0000 2020</td>\n",
       "      <td>1326565051575259136</td>\n",
       "      <td>ratatouille vai ser o primeiro filme que quero...</td>\n",
       "    </tr>\n",
       "  </tbody>\n",
       "</table>\n",
       "</div>"
      ],
      "text/plain": [
       "  user_screen_name              user_id  user_is_verified  \\\n",
       "0        ironboyxs           3461849895             False   \n",
       "1      Eternalstwc  1075866103455342594             False   \n",
       "2       molten16yt  1077379710307295232             False   \n",
       "3       ramoslilyz  1290732588638842881             False   \n",
       "4    verligameplay           3249089548             False   \n",
       "5           Pytok0   905232868091277313             False   \n",
       "6           Pytok0   905232868091277313             False   \n",
       "7      alviinhomcd            107576649             False   \n",
       "8    DaviT_Lunardi  1257785067541233664             False   \n",
       "9      callowarner           2866283354             False   \n",
       "\n",
       "  retweeted_from_screen_name  retweeted_from_id retweeted_from_is_verified  \\\n",
       "0                AAssembleBR       1.073608e+18                      False   \n",
       "1                  juslxrson       7.002257e+07                      False   \n",
       "2                        NaN                NaN                        NaN   \n",
       "3                        NaN                NaN                        NaN   \n",
       "4                        NaN                NaN                        NaN   \n",
       "5              GN_GeekNation       8.841859e+17                      False   \n",
       "6                AAssembleBR       1.073608e+18                      False   \n",
       "7                  whoisjupa       4.669161e+07                      False   \n",
       "8                        NaN                NaN                        NaN   \n",
       "9                        NaN                NaN                        NaN   \n",
       "\n",
       "  screen_name_mention_1         id_mention_1 in_reply_to_screen_name  \\\n",
       "0           AAssembleBR  1073607966954307585                    None   \n",
       "1             juslxrson             70022571                    None   \n",
       "2             Sellyxeee  1325333625580228610               Sellyxeee   \n",
       "3          FortniteGame            425871040            FortniteGame   \n",
       "4                   NaN                  NaN                    None   \n",
       "5         GN_GeekNation   884185909368901633                    None   \n",
       "6           AAssembleBR  1073607966954307585                    None   \n",
       "7             whoisjupa             46691612                    None   \n",
       "8                   NaN                  NaN                    None   \n",
       "9                   NaN                  NaN                    None   \n",
       "\n",
       "   in_reply_to_user_id                      created_at                   id  \\\n",
       "0                  NaN  Wed Nov 11 17:17:30 +0000 2020  1326574785564971013   \n",
       "1                  NaN  Wed Nov 11 17:16:53 +0000 2020  1326574630866477060   \n",
       "2         1.325334e+18  Wed Nov 11 17:13:17 +0000 2020  1326573727186735104   \n",
       "3         4.258710e+08  Wed Nov 11 17:09:14 +0000 2020  1326572708310773760   \n",
       "4                  NaN  Wed Nov 11 17:04:40 +0000 2020  1326571558849097728   \n",
       "5                  NaN  Wed Nov 11 16:50:43 +0000 2020  1326568048631959555   \n",
       "6                  NaN  Wed Nov 11 16:50:21 +0000 2020  1326567954067107841   \n",
       "7                  NaN  Wed Nov 11 16:48:14 +0000 2020  1326567421839372290   \n",
       "8                  NaN  Wed Nov 11 16:43:50 +0000 2020  1326566314383650816   \n",
       "9                  NaN  Wed Nov 11 16:38:49 +0000 2020  1326565051575259136   \n",
       "\n",
       "                                                text  \n",
       "0  RT @AAssembleBR: 📎 Aparentemente, a Disney pre...  \n",
       "1  RT @juslxrson: A Brie Larson é perspicaz em tu...  \n",
       "2  @Sellyxeee @TaylorrHits @FortniteGame @disneyp...  \n",
       "3  @FortniteGame @disneyplus legal, mas trazer a ...  \n",
       "4  Brasil ficou fora, que pena kkk #Fortnite #Dis...  \n",
       "5  RT @GN_GeekNation: Confira o trailer de 'Black...  \n",
       "6  RT @AAssembleBR: 📎 Aparentemente, a Disney pre...  \n",
       "7  RT @whoisjupa: Disney+ anuncia remake de O Rei...  \n",
       "8                Tem como chegar logo? \\n#DisneyPlus  \n",
       "9  ratatouille vai ser o primeiro filme que quero...  "
      ]
     },
     "execution_count": 47,
     "metadata": {},
     "output_type": "execute_result"
    }
   ],
   "source": [
    "df"
   ]
  },
  {
   "cell_type": "code",
   "execution_count": 48,
   "metadata": {},
   "outputs": [
    {
     "name": "stdout",
     "output_type": "stream",
     "text": [
      "<class 'pandas.core.frame.DataFrame'>\n",
      "RangeIndex: 10 entries, 0 to 9\n",
      "Data columns (total 13 columns):\n",
      " #   Column                      Non-Null Count  Dtype  \n",
      "---  ------                      --------------  -----  \n",
      " 0   user_screen_name            10 non-null     object \n",
      " 1   user_id                     10 non-null     int64  \n",
      " 2   user_is_verified            10 non-null     bool   \n",
      " 3   retweeted_from_screen_name  5 non-null      object \n",
      " 4   retweeted_from_id           5 non-null      float64\n",
      " 5   retweeted_from_is_verified  5 non-null      object \n",
      " 6   screen_name_mention_1       7 non-null      object \n",
      " 7   id_mention_1                7 non-null      object \n",
      " 8   in_reply_to_screen_name     2 non-null      object \n",
      " 9   in_reply_to_user_id         2 non-null      float64\n",
      " 10  created_at                  10 non-null     object \n",
      " 11  id                          10 non-null     int64  \n",
      " 12  text                        10 non-null     object \n",
      "dtypes: bool(1), float64(2), int64(2), object(8)\n",
      "memory usage: 1.1+ KB\n"
     ]
    }
   ],
   "source": [
    "df.info()"
   ]
  },
  {
   "cell_type": "markdown",
   "metadata": {},
   "source": [
    "## Interactions"
   ]
  },
  {
   "cell_type": "code",
   "execution_count": 51,
   "metadata": {},
   "outputs": [],
   "source": [
    "# Get the interactions between the different users\n",
    "def get_interactions(row):\n",
    "    # From every row of the original dataframe\n",
    "    # First we obtain the 'user_id' and 'screen_name'\n",
    "    user = row[\"user_id\"], row[\"user_screen_name\"]\n",
    "    # Be careful if there is no user id\n",
    "    if user[0] is None:\n",
    "        return (None, None), []\n",
    "    \n",
    "    # The interactions are going to be a set of tuples\n",
    "    interactions = set()\n",
    "    \n",
    "    # Add all interactions \n",
    "    # First, we add the interactions corresponding to replies adding the id and screen_name\n",
    "    interactions.add((row[\"in_reply_to_user_id\"], row[\"in_reply_to_screen_name\"]))\n",
    "    # After that, we add the interactions with retweets\n",
    "    interactions.add((row[\"retweeted_from_id\"], row[\"retweeted_from_screen_name\"]))\n",
    "    # And later, the interactions with user mentions\n",
    "    interactions.add((row[\"id_mention_1\"], row[\"screen_name_mention_1\"]))\n",
    "    \n",
    "    # Discard if user id is in interactions\n",
    "    interactions.discard((row[\"user_id\"], row[\"user_screen_name\"]))\n",
    "    # Discard all not existing values\n",
    "    interactions.discard((None, None))\n",
    "    # Return user and interactions\n",
    "    return user, interactions"
   ]
  },
  {
   "cell_type": "markdown",
   "metadata": {},
   "source": [
    "Cleaning Data"
   ]
  },
  {
   "cell_type": "code",
   "execution_count": 57,
   "metadata": {},
   "outputs": [],
   "source": [
    "tweets_final = df.where((pd.notnull(df)), None)"
   ]
  },
  {
   "cell_type": "code",
   "execution_count": 64,
   "metadata": {},
   "outputs": [
    {
     "data": {
      "text/plain": [
       "0           None\n",
       "1           None\n",
       "2    1.32533e+18\n",
       "3    4.25871e+08\n",
       "4           None\n",
       "5           None\n",
       "6           None\n",
       "7           None\n",
       "8           None\n",
       "9           None\n",
       "Name: in_reply_to_user_id, dtype: object"
      ]
     },
     "execution_count": 64,
     "metadata": {},
     "output_type": "execute_result"
    }
   ],
   "source": [
    "\n",
    "tweets_final.in_reply_to_user_id "
   ]
  },
  {
   "cell_type": "code",
   "execution_count": 58,
   "metadata": {},
   "outputs": [],
   "source": [
    "graph = nx.Graph()"
   ]
  },
  {
   "cell_type": "code",
   "execution_count": 59,
   "metadata": {},
   "outputs": [],
   "source": [
    "for index, tweet in tweets_final.iterrows():\n",
    "    user, interactions = get_interactions(tweet)\n",
    "    user_id, user_name = user\n",
    "    tweet_id = tweet[\"id\"]\n",
    "    #tweet_sent = tweet[\"sentiment\"]\n",
    "    for interaction in interactions:\n",
    "        int_id, int_name = interaction\n",
    "        graph.add_edge(user_id, int_id, tweet_id=tweet_id)\n",
    "        \n",
    "\n",
    "        graph.nodes[user_id][\"name\"] = user_name\n",
    "        graph.nodes[int_id][\"name\"] = int_name"
   ]
  },
  {
   "cell_type": "code",
   "execution_count": 60,
   "metadata": {},
   "outputs": [
    {
     "data": {
      "text/plain": [
       "NodeView((3461849895, '1073607966954307585', 1.0736079669543076e+18, 1075866103455342594, '70022571', 70022571.0, 1077379710307295232, '1325333625580228610', 1.3253336255802286e+18, 1290732588638842881, 425871040.0, '425871040', 905232868091277313, 8.841859093689016e+17, '884185909368901633', 107576649, 46691612.0, '46691612'))"
      ]
     },
     "execution_count": 60,
     "metadata": {},
     "output_type": "execute_result"
    }
   ],
   "source": [
    "graph.nodes"
   ]
  },
  {
   "cell_type": "code",
   "execution_count": 61,
   "metadata": {},
   "outputs": [
    {
     "data": {
      "text/plain": [
       "set()"
      ]
     },
     "execution_count": 61,
     "metadata": {},
     "output_type": "execute_result"
    }
   ],
   "source": [
    "interactions"
   ]
  }
 ],
 "metadata": {
  "kernelspec": {
   "display_name": "Python 3",
   "language": "python",
   "name": "python3"
  },
  "language_info": {
   "codemirror_mode": {
    "name": "ipython",
    "version": 3
   },
   "file_extension": ".py",
   "mimetype": "text/x-python",
   "name": "python",
   "nbconvert_exporter": "python",
   "pygments_lexer": "ipython3",
   "version": "3.8.5"
  }
 },
 "nbformat": 4,
 "nbformat_minor": 2
}

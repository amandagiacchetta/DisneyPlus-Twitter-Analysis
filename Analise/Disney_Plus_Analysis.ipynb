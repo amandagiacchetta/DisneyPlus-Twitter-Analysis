{
 "cells": [
  {
   "cell_type": "markdown",
   "metadata": {},
   "source": [
    "## Disney+ launch in Brazil: analyzing conversations on Twitter"
   ]
  },
  {
   "cell_type": "markdown",
   "metadata": {},
   "source": [
    "Questions to anwser:\n",
    "\n",
    "- Most engaged users\n",
    "\n",
    "- To find peaks and specific events that may be related to them\n",
    "\n",
    "- Verified ccounts"
   ]
  },
  {
   "cell_type": "markdown",
   "metadata": {},
   "source": [
    "Important notes about the data:\n",
    "    \n",
    "- Twitter API returns data considering UTC timezone. The offical Brasilia timezone is -3 UTC. So data appears here with an addition of 3 hours.\n",
    "- Twitter API does not return all data from each day, but a mix from popular and recent tweets. \n",
    "- Specifications of the query: keyword:\"DisneyPlus\", language: \"pt\""
   ]
  },
  {
   "cell_type": "markdown",
   "metadata": {},
   "source": [
    "## Opening data"
   ]
  },
  {
   "cell_type": "code",
   "execution_count": 7,
   "metadata": {},
   "outputs": [],
   "source": [
    "import pandas as pd\n",
    "import numpy as np \n",
    "import matplotlib.pyplot as plt\n",
    "import seaborn as sns\n",
    "import plotly.express as px\n",
    "import networkx as nx\n",
    "%matplotlib inline"
   ]
  },
  {
   "cell_type": "code",
   "execution_count": 8,
   "metadata": {},
   "outputs": [],
   "source": [
    "#Reading data that was already been concatenated and a preprocessed\n",
    "data = pd.read_pickle(r'C:\\Users\\amand\\Documents\\Jupyter Notebooks\\DisneyPlus\\data_fulltext_pkl\\disneyplus_concat_data.pkl')"
   ]
  },
  {
   "cell_type": "code",
   "execution_count": null,
   "metadata": {
    "scrolled": true
   },
   "outputs": [],
   "source": [
    "#Structure of the data\n",
    "data.shape"
   ]
  },
  {
   "cell_type": "markdown",
   "metadata": {},
   "source": [
    "## Visualization Options"
   ]
  },
  {
   "cell_type": "code",
   "execution_count": 10,
   "metadata": {},
   "outputs": [],
   "source": [
    "#Display the tweet full text\n",
    "pd.set_option('display.max_colwidth', None)"
   ]
  },
  {
   "cell_type": "code",
   "execution_count": 11,
   "metadata": {},
   "outputs": [],
   "source": [
    "#Show more than one output\n",
    "from IPython.core.interactiveshell import InteractiveShell\n",
    "InteractiveShell.ast_node_interactivity = \"all\""
   ]
  },
  {
   "cell_type": "markdown",
   "metadata": {},
   "source": [
    "## Cleaning"
   ]
  },
  {
   "cell_type": "code",
   "execution_count": 9,
   "metadata": {
    "scrolled": true
   },
   "outputs": [
    {
     "name": "stdout",
     "output_type": "stream",
     "text": [
      "<class 'pandas.core.frame.DataFrame'>\n",
      "RangeIndex: 66127 entries, 0 to 66126\n",
      "Data columns (total 19 columns):\n",
      " #   Column                      Non-Null Count  Dtype         \n",
      "---  ------                      --------------  -----         \n",
      " 0   index                       66127 non-null  int64         \n",
      " 1   user_screen_name            66127 non-null  object        \n",
      " 2   user_id                     66127 non-null  object        \n",
      " 3   user_is_verified            66127 non-null  bool          \n",
      " 4   retweeted_from_screen_name  44275 non-null  object        \n",
      " 5   retweeted_from_id           66127 non-null  object        \n",
      " 6   retweeted_from_is_verified  44275 non-null  object        \n",
      " 7   screen_name_mention_1       51004 non-null  object        \n",
      " 8   id_mention_1                66127 non-null  object        \n",
      " 9   in_reply_to_screen_name     66127 non-null  object        \n",
      " 10  in_reply_to_user_id         66127 non-null  int64         \n",
      " 11  created_at                  66127 non-null  datetime64[ns]\n",
      " 12  id                          66127 non-null  int64         \n",
      " 13  full_text                   66127 non-null  object        \n",
      " 14  retweet_full_text           44275 non-null  object        \n",
      " 15  retweet_count               66127 non-null  int64         \n",
      " 16  favorite_count              66127 non-null  int64         \n",
      " 17  user_followers              66127 non-null  int64         \n",
      " 18  user_following              66127 non-null  int64         \n",
      "dtypes: bool(1), datetime64[ns](1), int64(7), object(10)\n",
      "memory usage: 9.1+ MB\n"
     ]
    }
   ],
   "source": [
    "data.info()\n",
    "#Fill None values with 0 to not interfere into the id columns.\n",
    "data = data.fillna(0)"
   ]
  },
  {
   "cell_type": "markdown",
   "metadata": {},
   "source": [
    "## Subsets"
   ]
  },
  {
   "cell_type": "code",
   "execution_count": null,
   "metadata": {},
   "outputs": [],
   "source": [
    "## Data without RTs\n",
    "mask_no_rt = data['retweeted_from_id'] == 0\n",
    "data_no_rt = data[mask_no_rt].copy()"
   ]
  },
  {
   "cell_type": "code",
   "execution_count": null,
   "metadata": {
    "scrolled": true
   },
   "outputs": [],
   "source": [
    "data_no_rt.head()\n",
    "data_no_rt.info()"
   ]
  },
  {
   "cell_type": "markdown",
   "metadata": {},
   "source": [
    "## Users - Overview"
   ]
  },
  {
   "cell_type": "markdown",
   "metadata": {},
   "source": [
    "- We can observe that there are different kinds of users in this list: streaming services(globoplay, DisneyPlusBR), e-commerce(MercadoLivre), app store(GooglePlay), guides (guiadisneyplus, disneygobr), fan accounts for the tv show Bia (nessavcb, irmasurquiza), k-pop fans(GIFT4EHYUNG, pjmsmilez, PRINC3JIKK)."
   ]
  },
  {
   "cell_type": "markdown",
   "metadata": {},
   "source": [
    "- Globoplay and Disney+ made a partership allowing customers to sign up for both of their services for a special price. \n",
    "- Considering the number of tweets about it, we can observe that Globoplay invested in interactions with their potential customers."
   ]
  },
  {
   "cell_type": "markdown",
   "metadata": {},
   "source": [
    "- The text reveals another partnership, this time with Mercado Livre, an e-commerce platform. \n",
    "- The offer included up to 6 months of Disney+ for free for customers with a certain number of points on its loyalty program, called Mercado Pontos."
   ]
  },
  {
   "cell_type": "code",
   "execution_count": null,
   "metadata": {},
   "outputs": [],
   "source": [
    "#Number of users considering RTs\n",
    "data.user_id.unique().shape"
   ]
  },
  {
   "cell_type": "code",
   "execution_count": null,
   "metadata": {},
   "outputs": [],
   "source": [
    "# Number of users, excluding RTs\n",
    "data_no_rt.user_id.unique().shape"
   ]
  },
  {
   "cell_type": "code",
   "execution_count": null,
   "metadata": {
    "scrolled": true
   },
   "outputs": [],
   "source": [
    "#Most engaged users, excluding RTs\n",
    "data_no_rt.user_screen_name.value_counts().head(15).to_frame()"
   ]
  },
  {
   "cell_type": "code",
   "execution_count": null,
   "metadata": {},
   "outputs": [],
   "source": [
    "#Closer look into why globloplay tweeted about Disney+\n",
    "mask_globoplay = data_no_rt['user_screen_name'] == 'globoplay'\n",
    "data_no_rt[mask_globoplay]['full_text'].head()"
   ]
  },
  {
   "cell_type": "code",
   "execution_count": null,
   "metadata": {},
   "outputs": [],
   "source": [
    "#Closer look into why Mercado Livre tweeted about Disney+\n",
    "mask_mercadolivre = data_no_rt['user_screen_name'] == 'MercadoLivre'\n",
    "data_no_rt[mask_mercadolivre]['full_text'].head()"
   ]
  },
  {
   "cell_type": "markdown",
   "metadata": {},
   "source": [
    "## Tweets histogram"
   ]
  },
  {
   "cell_type": "code",
   "execution_count": null,
   "metadata": {
    "scrolled": false
   },
   "outputs": [],
   "source": [
    "#Historgram considering all data\n",
    "px.histogram(data.created_at)"
   ]
  },
  {
   "cell_type": "markdown",
   "metadata": {},
   "source": [
    "## Analyzing Peaks"
   ]
  },
  {
   "cell_type": "markdown",
   "metadata": {},
   "source": [
    "- RT percentage\n",
    "- Comments"
   ]
  },
  {
   "cell_type": "markdown",
   "metadata": {},
   "source": [
    "### Nov 12: from 17 to 18 pm\n",
    "\n",
    "- Reactions to the realease of the official date of the new Marvel Series Wanda Division"
   ]
  },
  {
   "cell_type": "code",
   "execution_count": null,
   "metadata": {
    "scrolled": true
   },
   "outputs": [],
   "source": [
    "mask_date = (data['created_at'] > '2020-11-12 17:00:00') & (data['created_at'] <= '2020-11-12 17:59:59')\n",
    "data[mask_date].sort_values(by='favorite_count', ascending=False).full_text.head()"
   ]
  },
  {
   "cell_type": "markdown",
   "metadata": {},
   "source": [
    "### Nov 15: from 2 to 3 am\n",
    "\n",
    "- People were commenting about Disney+ special launching content that was available on several channels such as YouTube \n",
    "and the streaming service of brazilian tv channel GloboPlay"
   ]
  },
  {
   "cell_type": "code",
   "execution_count": null,
   "metadata": {
    "scrolled": true
   },
   "outputs": [],
   "source": [
    "mask2 = (data['created_at'] > '2020-11-15 02:00:00') & (data['created_at'] <= '2020-11-15 02:59:59')\n",
    "data[mask2].sort_values(by='favorite_count', ascending=False).full_text.head()"
   ]
  },
  {
   "cell_type": "code",
   "execution_count": null,
   "metadata": {},
   "outputs": [],
   "source": [
    "# Nov 17 from 3 to 4 am\n",
    "\n",
    "mask3 = (data['created_at'] > '2020-11-17 03:00:00') & (data['created_at'] <= '2020-11-17 03:59:59')\n",
    "data[mask3].sort_values(by='favorite_count', ascending=False).full_text.head(10)\n",
    "\n",
    "## The countdown for the app realease. \n",
    "## Some fans seemed disappointed because the app was not realeased at midnight."
   ]
  },
  {
   "cell_type": "code",
   "execution_count": null,
   "metadata": {},
   "outputs": [],
   "source": [
    "## Nov 17 from 12 to 13 pm\n",
    "\n",
    "mask4 = (data['created_at'] > '2020-11-17 12:00:00') & (data['created_at'] <= '2020-11-17 12:59:59')\n",
    "data[mask4].sort_values(by='favorite_count', ascending=False).full_text.head()\n",
    "\n",
    "## Official launch: content available"
   ]
  },
  {
   "cell_type": "code",
   "execution_count": null,
   "metadata": {},
   "outputs": [],
   "source": [
    "## Nov 17 from 12 to 13 pm\n",
    "\n",
    "mask5 = (data['created_at'] > '2020-11-17 15:00:00') & (data['created_at'] <= '2020-11-17 15:59:59')\n",
    "data[mask5].sort_values(by='favorite_count', ascending=False).full_text.head()\n",
    "## Official launch: content available Part2"
   ]
  },
  {
   "cell_type": "code",
   "execution_count": null,
   "metadata": {},
   "outputs": [],
   "source": [
    "## Nov 18 from 0 to 1 am\n",
    "\n",
    "mask6 = (data['created_at'] > '2020-11-18 00:00:00') & (data['created_at'] <= '2020-11-18 00:59:59')\n",
    "data[mask6].sort_values(by='favorite_count', ascending=False).full_text.head()\n",
    "\n",
    "## Official launch: content available"
   ]
  },
  {
   "cell_type": "code",
   "execution_count": null,
   "metadata": {},
   "outputs": [],
   "source": [
    "## Nov 18 from 17 to 18 pm\n",
    "\n",
    "mask7 = (data['created_at'] > '2020-11-18 17:00:00') & (data['created_at'] <= '2020-11-18 17:59:59')\n",
    "data[mask7].sort_values(by='favorite_count', ascending=False).full_text.head()\n",
    "## Official launch: content available"
   ]
  },
  {
   "cell_type": "markdown",
   "metadata": {},
   "source": [
    "## Rall of fame publications"
   ]
  },
  {
   "cell_type": "markdown",
   "metadata": {},
   "source": [
    "Most Retweeted Posts\n",
    "\n",
    "- One of the most retweeted publications was about caracteristcs of the old movies tapes\n",
    "\n",
    "- People promising disney accounts for free\n",
    "\n",
    "- Asking about others people accounts\n",
    "\n",
    "\n",
    "\n"
   ]
  },
  {
   "cell_type": "code",
   "execution_count": null,
   "metadata": {},
   "outputs": [],
   "source": [
    "#Most retweeted publication\n",
    "data.sort_values('retweet_count', ascending=False).head(1).retweet_full_text"
   ]
  },
  {
   "cell_type": "code",
   "execution_count": null,
   "metadata": {},
   "outputs": [],
   "source": [
    "# Most liked publication \n",
    "data.sort_values('favorite_count', ascending=False).head(1).full_text"
   ]
  },
  {
   "cell_type": "markdown",
   "metadata": {},
   "source": [
    "## Verified accounts"
   ]
  },
  {
   "cell_type": "markdown",
   "metadata": {},
   "source": [
    "- Verified accounts that tweeted about DisneyPlus"
   ]
  },
  {
   "cell_type": "markdown",
   "metadata": {},
   "source": [
    "- Some accounts were expected to appear on that list, because they are Disney+ partners: \n",
    "\n",
    "    - RedeGlobo, for example, is the company that owns GloboPlay, a sreaming service that made a partnetship with Disney+.\n",
    "    - Claudia Leitte and Dani Calabresa are brazilian artists who participated on the special show produced for the app launch in Brazil.\n",
    "    - FoxSportsBrazil and ESPN are part of the Disney Companies.\n",
    "\n",
    "- We can also see media and journalists specialized on movies/tv.\n",
    "\n",
    "    - Omelete is a blog specialized on movies and tv.\n",
    "    - Antonio Tabet is a\n",
    "\n"
   ]
  },
  {
   "cell_type": "code",
   "execution_count": null,
   "metadata": {},
   "outputs": [],
   "source": [
    "verified = data['user_is_verified'] == True\n",
    "\n",
    "#Verified accounts who tweeted about Disney+ by number of tweets\n",
    "data[verified]['user_screen_name'].value_counts().head(20).to_frame()"
   ]
  },
  {
   "cell_type": "code",
   "execution_count": null,
   "metadata": {
    "scrolled": true
   },
   "outputs": [],
   "source": [
    "#Most followed verified accounts\n",
    "data[verified].sort_values(by='user_followers', ascending=False).user_screen_name.unique()[:10]"
   ]
  },
  {
   "cell_type": "code",
   "execution_count": null,
   "metadata": {},
   "outputs": [],
   "source": [
    "user_mask = data['user_screen_name'] == 'otaviano'\n",
    "data[user_mask].full_text"
   ]
  },
  {
   "cell_type": "markdown",
   "metadata": {},
   "source": [
    "## Interactions - Source Code"
   ]
  },
  {
   "cell_type": "code",
   "execution_count": null,
   "metadata": {},
   "outputs": [],
   "source": [
    "# Na verdade o que ela faz aqui e criar uma funcao que \n",
    "#para cada ususario existe uma lista de usuarios com os quais ele interagiu.\n",
    "#Entao depois na hora que itera sobre o dataset, pada cada linha, linha usuario\n",
    "\n",
    "\n",
    "# Get the interactions between the different users\n",
    "def get_interactions(row):\n",
    "    # From every row of the original dataframe\n",
    "    # First we obtain the 'user_id' and 'screen_name'\n",
    "    user = row[\"user_id\"], row[\"user_screen_name\"]\n",
    "    # Be careful if there is no user id\n",
    "    if user[0] is None:\n",
    "        return (None, None), []\n",
    "    \n",
    "    # The interactions are going to be a set of tuples\n",
    "    interactions = set()\n",
    "    \n",
    "    # Add all interactions \n",
    "    # First, we add the interactions corresponding to replies adding the id and screen_name\n",
    "    interactions.add((row[\"in_reply_to_user_id\"], row[\"in_reply_to_screen_name\"]))\n",
    "    # After that, we add the interactions with retweets\n",
    "    interactions.add((row[\"retweeted_from_id\"], row[\"retweeted_from_screen_name\"]))\n",
    "    # And later, the interactions with user mentions\n",
    "    interactions.add((row[\"id_mention_1\"], row[\"screen_name_mention_1\"]))\n",
    "    \n",
    "    # Discard if user id is in interactions\n",
    "    interactions.discard((row[\"user_id\"], row[\"user_screen_name\"]))\n",
    "    # Discard all not existing values\n",
    "    interactions.discard((None, None))\n",
    "    # Return user and interactions\n",
    "    return user, interactions"
   ]
  },
  {
   "cell_type": "markdown",
   "metadata": {},
   "source": [
    "## Get nodes"
   ]
  },
  {
   "cell_type": "code",
   "execution_count": 12,
   "metadata": {},
   "outputs": [],
   "source": [
    "subset= data.head(50).copy()"
   ]
  },
  {
   "cell_type": "code",
   "execution_count": 13,
   "metadata": {},
   "outputs": [],
   "source": [
    "interactions = []\n",
    "\n",
    "for index, row in subset.iterrows():\n",
    "    user_sn = row['user_screen_name']\n",
    "    retweet_from = row['retweeted_from_screen_name']\n",
    "    reply_to = row['in_reply_to_screen_name']\n",
    "    mention = row['screen_name_mention_1']\n",
    "    \n",
    "\n",
    "    interactions.append((user_sn, retweet_from))\n",
    "    interactions.append((user_sn, reply_to))\n",
    "    interactions.append((user_sn, mention))"
   ]
  },
  {
   "cell_type": "code",
   "execution_count": 15,
   "metadata": {},
   "outputs": [],
   "source": [
    "interactions_cleaned = [x for x in interactions if 0 not in x]"
   ]
  },
  {
   "cell_type": "code",
   "execution_count": 16,
   "metadata": {},
   "outputs": [],
   "source": [
    "interactions_set = set(interactions_cleaned)"
   ]
  },
  {
   "cell_type": "markdown",
   "metadata": {},
   "source": [
    "## Graph- test"
   ]
  },
  {
   "cell_type": "markdown",
   "metadata": {},
   "source": [
    "G.add_node(1)\n",
    "G.clear()\n",
    "G.add_nodes_from(interactions_set)\n",
    "G.add_edges_from(interactions_set)\n",
    "from matplotlib.pyplot import figure\n",
    "figure(figsize=(20, 20))\n",
    "nx.draw_networkx(G, with_labels=True)\n",
    "nx.draw_networkx(G)\n",
    "options = {\n",
    "    \"node_color\": \"#A0CBE2\",\n",
    "    \"edge_color\": colors,\n",
    "    \"width\": 4,\n",
    "    \"edge_cmap\": plt.cm.Blues,\n",
    "    \"with_labels\": False,\n",
    "}\n",
    "\n",
    "- G = nx.Graph()\n",
    "#### Se eu adicionar apenas os edges, ele cria automaticamente os nodes.\n",
    "- G.add_edges_from(interactions_set)\n",
    "- fig2 = plt.figure(figsize=(20,20))\n",
    "- nx.draw_networkx(G, with_labels=True);"
   ]
  },
  {
   "cell_type": "markdown",
   "metadata": {},
   "source": [
    "## To Gephi"
   ]
  },
  {
   "cell_type": "code",
   "execution_count": null,
   "metadata": {
    "scrolled": true
   },
   "outputs": [],
   "source": [
    "##nx.write_gexf(F, \"disneyplus_direct.gexf\")"
   ]
  },
  {
   "cell_type": "code",
   "execution_count": null,
   "metadata": {},
   "outputs": [],
   "source": [
    "##nx.write_graphml(F, \"disneyplus_3.graphml\")"
   ]
  },
  {
   "cell_type": "markdown",
   "metadata": {},
   "source": [
    "## Directed Graph"
   ]
  },
  {
   "cell_type": "code",
   "execution_count": null,
   "metadata": {},
   "outputs": [],
   "source": [
    "H = nx.DiGraph()"
   ]
  },
  {
   "cell_type": "code",
   "execution_count": null,
   "metadata": {},
   "outputs": [],
   "source": [
    "H.add_edges_from(interactions_set, Type='retweet')"
   ]
  },
  {
   "cell_type": "code",
   "execution_count": null,
   "metadata": {},
   "outputs": [],
   "source": [
    "H.nodes.data"
   ]
  },
  {
   "cell_type": "code",
   "execution_count": null,
   "metadata": {},
   "outputs": [],
   "source": [
    "d = dict(H.degree)\n",
    "in_degrees = d.values()\n",
    "nodelist = list(d.keys())"
   ]
  },
  {
   "cell_type": "code",
   "execution_count": null,
   "metadata": {},
   "outputs": [],
   "source": [
    "pos = nx.spring_layout(H)\n",
    "fig5 = plt.figure(figsize=(20,20))\n",
    "node_size=[v * 100 for v in in_degrees]\n",
    "nx.draw_networkx_nodes(H, pos, nodelist=nodelist, node_size = node_size);\n",
    "nx.draw_networkx_edges(H,pos,edgelist=interactions_rt_cleaned, edge_color='r');\n",
    "nx.draw_networkx_labels(H, pos, F.nodes)"
   ]
  },
  {
   "cell_type": "code",
   "execution_count": null,
   "metadata": {},
   "outputs": [],
   "source": [
    "fig3 = plt.figure(figsize=(20,20))\n",
    "nx.draw(H, nodelist=nodelist, node_size=[v * 100 for v in in_degrees], with_labels=True)"
   ]
  },
  {
   "cell_type": "markdown",
   "metadata": {},
   "source": [
    "## Get Nodes v2"
   ]
  },
  {
   "cell_type": "code",
   "execution_count": null,
   "metadata": {},
   "outputs": [],
   "source": [
    "#get interactions separeted by type \n",
    "\n",
    "interactions_retweets = []\n",
    "interactions_mentions = []\n",
    "interactions_replies = []\n",
    "\n",
    "for index, row in subset.iterrows():\n",
    "    user_sn = row['user_screen_name']\n",
    "    retweet_from = row['retweeted_from_screen_name']\n",
    "    reply_to = row['in_reply_to_screen_name']\n",
    "    mention = row['screen_name_mention_1']\n",
    "    \n",
    "\n",
    "    interactions_retweets.append((user_sn, retweet_from))\n",
    "    interactions_replies.append((user_sn, reply_to))\n",
    "    interactions_mentions.append((user_sn, mention))"
   ]
  },
  {
   "cell_type": "code",
   "execution_count": null,
   "metadata": {},
   "outputs": [],
   "source": [
    "interactions_rt_cleaned = [x for x in interactions_retweets if 0 not in x]\n",
    "interactions_mt_cleaned = [x for x in interactions_mentions if 0 not in x]\n",
    "interactions_rp_cleaned = [x for x in interactions_replies if 0 not in x]\n",
    "\n",
    "interactions_rt = set(interactions_rt_cleaned)\n",
    "interactions_mt = set(interactions_mt_cleaned)\n",
    "interactions_rp = set(interactions_rp_cleaned)"
   ]
  },
  {
   "cell_type": "markdown",
   "metadata": {},
   "source": [
    "## Colored graph"
   ]
  },
  {
   "cell_type": "code",
   "execution_count": null,
   "metadata": {},
   "outputs": [],
   "source": [
    "F = nx.DiGraph()"
   ]
  },
  {
   "cell_type": "code",
   "execution_count": null,
   "metadata": {},
   "outputs": [],
   "source": [
    "F.add_edges_from(interactions_rt_cleaned, type='retweet')"
   ]
  },
  {
   "cell_type": "code",
   "execution_count": null,
   "metadata": {},
   "outputs": [],
   "source": [
    "F.edges.data()"
   ]
  },
  {
   "cell_type": "code",
   "execution_count": null,
   "metadata": {},
   "outputs": [],
   "source": [
    "nodeslist2 = list(dict(F.degree).keys())"
   ]
  },
  {
   "cell_type": "code",
   "execution_count": null,
   "metadata": {},
   "outputs": [],
   "source": [
    "d2 = dict(F.degree)"
   ]
  },
  {
   "cell_type": "code",
   "execution_count": null,
   "metadata": {},
   "outputs": [],
   "source": [
    "fig3 = plt.figure(figsize=(20,10))\n",
    "nx.draw(F, nodelist=nodeslist2, node_size=[v * 100 for v in d2.values()], with_labels=True)\n",
    "\n"
   ]
  },
  {
   "cell_type": "code",
   "execution_count": null,
   "metadata": {},
   "outputs": [],
   "source": [
    "F.clear()"
   ]
  },
  {
   "cell_type": "code",
   "execution_count": null,
   "metadata": {},
   "outputs": [],
   "source": [
    "#Add nodes and egdes to the empty graph based on a list of tuples\n",
    "F.add_edges_from(interactions_rt_cleaned)\n",
    "#It maps the nodes positions on the graph using direct-force algorithm\n",
    "pos = nx.layout.spring_layout(F)"
   ]
  },
  {
   "cell_type": "code",
   "execution_count": null,
   "metadata": {},
   "outputs": [],
   "source": [
    "#The degree sets the node size\n",
    "d2 = dict(F.degree)\n",
    "#The nodes list is \n",
    "nodeslist2 = list(d2.keys())\n"
   ]
  },
  {
   "cell_type": "code",
   "execution_count": null,
   "metadata": {},
   "outputs": [],
   "source": [
    "fig4 = plt.figure(figsize=(20,20))\n",
    "node_size=[v * 100 for v in d2.values()]\n",
    "nx.draw_networkx_nodes(F, pos, nodelist=nodeslist2, node_size = node_size);\n",
    "nx.draw_networkx_edges(F,pos,edgelist=interactions_rt_cleaned, edge_color='r');\n",
    "nx.draw_networkx_labels(F, pos, F.nodes)"
   ]
  },
  {
   "cell_type": "code",
   "execution_count": null,
   "metadata": {},
   "outputs": [],
   "source": []
  },
  {
   "cell_type": "code",
   "execution_count": null,
   "metadata": {
    "scrolled": true
   },
   "outputs": [],
   "source": [
    "F.edges.data('color', default='red')"
   ]
  },
  {
   "cell_type": "markdown",
   "metadata": {},
   "source": [
    "## Neo4j"
   ]
  },
  {
   "cell_type": "code",
   "execution_count": 1,
   "metadata": {},
   "outputs": [],
   "source": [
    "import neo4j"
   ]
  },
  {
   "cell_type": "code",
   "execution_count": 3,
   "metadata": {},
   "outputs": [],
   "source": [
    "#conect to the database. Its necessary to create a driver object\n",
    "driver = neo4j.GraphDatabase.driver(\"bolt://localhost:7687\",\n",
    "             auth=(\"neo4j\", \"amanda\"))"
   ]
  },
  {
   "cell_type": "code",
   "execution_count": 17,
   "metadata": {},
   "outputs": [],
   "source": [
    "import nxneo4j as nx2"
   ]
  },
  {
   "cell_type": "code",
   "execution_count": 25,
   "metadata": {},
   "outputs": [],
   "source": [
    "#Neo4j has a dict of setings that stabilishs the relation data\n",
    "\n",
    "config = {\n",
    "'node_label': 'user',\n",
    "'relationship_type': 'retweeted',\n",
    "'identifier_property': 'screen_name'}\n",
    "\n",
    "G = nx2.DiGraph(driver, config)"
   ]
  },
  {
   "cell_type": "code",
   "execution_count": 26,
   "metadata": {},
   "outputs": [],
   "source": [
    "G.add_edges_from(interactions_set)"
   ]
  },
  {
   "cell_type": "code",
   "execution_count": 1,
   "metadata": {},
   "outputs": [
    {
     "ename": "NameError",
     "evalue": "name 'G' is not defined",
     "output_type": "error",
     "traceback": [
      "\u001b[1;31m---------------------------------------------------------------------------\u001b[0m",
      "\u001b[1;31mNameError\u001b[0m                                 Traceback (most recent call last)",
      "\u001b[1;32m<ipython-input-1-2a60f68bbb78>\u001b[0m in \u001b[0;36m<module>\u001b[1;34m\u001b[0m\n\u001b[1;32m----> 1\u001b[1;33m \u001b[0mG\u001b[0m\u001b[1;33m.\u001b[0m\u001b[0mdelete_all\u001b[0m\u001b[1;33m(\u001b[0m\u001b[1;33m)\u001b[0m\u001b[1;33m\u001b[0m\u001b[1;33m\u001b[0m\u001b[0m\n\u001b[0m",
      "\u001b[1;31mNameError\u001b[0m: name 'G' is not defined"
     ]
    }
   ],
   "source": [
    "G.delete_all()"
   ]
  },
  {
   "cell_type": "code",
   "execution_count": 27,
   "metadata": {},
   "outputs": [
    {
     "data": {
      "text/html": [
       "\n",
       "        <iframe\n",
       "            width=\"100%\"\n",
       "            height=\"500\"\n",
       "            src=\"vis.html\"\n",
       "            frameborder=\"0\"\n",
       "            allowfullscreen\n",
       "        ></iframe>\n",
       "        "
      ],
      "text/plain": [
       "<IPython.lib.display.IFrame at 0x1cd140005e0>"
      ]
     },
     "execution_count": 27,
     "metadata": {},
     "output_type": "execute_result"
    }
   ],
   "source": [
    "nx2.draw(G)"
   ]
  }
 ],
 "metadata": {
  "kernelspec": {
   "display_name": "Python 3",
   "language": "python",
   "name": "python3"
  },
  "language_info": {
   "codemirror_mode": {
    "name": "ipython",
    "version": 3
   },
   "file_extension": ".py",
   "mimetype": "text/x-python",
   "name": "python",
   "nbconvert_exporter": "python",
   "pygments_lexer": "ipython3",
   "version": "3.8.5"
  }
 },
 "nbformat": 4,
 "nbformat_minor": 2
}

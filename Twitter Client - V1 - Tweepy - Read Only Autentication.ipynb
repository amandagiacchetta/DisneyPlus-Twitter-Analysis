{
 "cells": [
  {
   "cell_type": "markdown",
   "metadata": {},
   "source": [
    "# Twitter API v1.1 Client"
   ]
  },
  {
   "cell_type": "code",
   "execution_count": 1,
   "metadata": {},
   "outputs": [],
   "source": [
    "import tweepy\n",
    "import pandas as pd \n",
    "import numpy as np\n",
    "import matplotlib.pyplot as plt\n",
    "from datetime import datetime"
   ]
  },
  {
   "cell_type": "markdown",
   "metadata": {},
   "source": [
    "## Autentication"
   ]
  },
  {
   "cell_type": "code",
   "execution_count": 2,
   "metadata": {},
   "outputs": [],
   "source": [
    "def get_auth_twitter():\n",
    "        \n",
    "    consumer_key= 'drhztkGNhICDt3cwBGXi7zzQk'\n",
    "    consumer_secret= 'FDeCBlSi4qIbR9oPsf3tphQjCO6HqZfYANWceYIdJDZHsOaabi'\n",
    "    access_token= '207778119-E9W1kqRXBbNeU2n8vcA0OoMn9XZpE9yvmZrD8gUx'\n",
    "    access_token_secret= 'dncbYQQrh5jlJ97OmgxeaGgqOFiC7jnNpXdPngWMCRtDE'\n",
    "    auth = tweepy.OAuthHandler(consumer_key, consumer_secret)\n",
    "    api = tweepy.API(auth, wait_on_rate_limit=True, wait_on_rate_limit_notify=True)\n",
    "\n",
    "    return api\n"
   ]
  },
  {
   "cell_type": "markdown",
   "metadata": {},
   "source": [
    "## Query API V1"
   ]
  },
  {
   "cell_type": "code",
   "execution_count": 3,
   "metadata": {},
   "outputs": [],
   "source": [
    "def search_for_tweets(api, search_words, until, lang, items):\n",
    "\n",
    "        ##search_words = \"DisneyPlus\"\n",
    "        ##until= \"2020-11-03\"\n",
    "        ##lang = 'pt'\n",
    "\n",
    "        cursor = tweepy.Cursor(api.search,\n",
    "                    q=search_words,\n",
    "                    lang=lang,\n",
    "                    until= until, count=100, tweet_mode='extended').items(items)\n",
    "\n",
    "        return cursor"
   ]
  },
  {
   "cell_type": "markdown",
   "metadata": {},
   "source": [
    "## Cursor to List"
   ]
  },
  {
   "cell_type": "code",
   "execution_count": 4,
   "metadata": {},
   "outputs": [],
   "source": [
    "def iterator_to_list(cursor):\n",
    "\n",
    "    return list(cursor)      "
   ]
  },
  {
   "cell_type": "code",
   "execution_count": 5,
   "metadata": {},
   "outputs": [],
   "source": [
    "pd.set_option('display.max_colwidth', None)"
   ]
  },
  {
   "cell_type": "markdown",
   "metadata": {},
   "source": [
    "## Creating a DF"
   ]
  },
  {
   "cell_type": "code",
   "execution_count": 6,
   "metadata": {},
   "outputs": [],
   "source": [
    "\n",
    "def tweets_to_dataframe(tweets_list):\n",
    "\n",
    "    columns = set()\n",
    "    \n",
    "    tweets_data = []\n",
    "\n",
    "    \n",
    "    for tweet in tweets_list:\n",
    "        keys = tweet._json.keys()\n",
    "        single_data = {}\n",
    "        \n",
    "        \n",
    "        for k in keys:\n",
    "\n",
    "            valor = tweet._json.get(k)\n",
    "\n",
    "            if tweet._json.get(k) == None:\n",
    "\n",
    "                try:\n",
    "\n",
    "                    single_data[k] = 0\n",
    "\n",
    "                except Exception as e:\n",
    "                    print(e)\n",
    "                \n",
    "            \n",
    "            else:\n",
    "              \n",
    "               try:\n",
    "                    single_data[k] = tweet._json.get(k)\n",
    "               \n",
    "               except Exception as e:\n",
    "                    print(e)\n",
    "                    single_data[k] = 0\n",
    "\n",
    "                \n",
    "            \n",
    "            columns.add(k)\n",
    "\n",
    "        tweets_data.append(single_data)    \n",
    "    \n",
    "\n",
    "    header_cols = list(columns)\n",
    "    df = pd.DataFrame(tweets_data, columns=header_cols)\n",
    "    df.head()\n",
    "    \n",
    "    return df"
   ]
  },
  {
   "cell_type": "markdown",
   "metadata": {},
   "source": [
    "## Extracting data from objects"
   ]
  },
  {
   "cell_type": "markdown",
   "metadata": {},
   "source": [
    "Entities column: finding mentions"
   ]
  },
  {
   "cell_type": "code",
   "execution_count": 7,
   "metadata": {},
   "outputs": [],
   "source": [
    "def mentions(df):\n",
    "\n",
    "        df['screen_name_mention_1'] = df['entities'].apply(lambda x: x['user_mentions'][0]['screen_name'] if x['user_mentions'] else None)\n",
    "\n",
    "        df['id_mention_1'] = df['entities'].apply(lambda x: x['user_mentions'][0]['id_str'] if x['user_mentions'] else 0)\n",
    "\n",
    "        return df"
   ]
  },
  {
   "cell_type": "markdown",
   "metadata": {},
   "source": [
    "Retweeted_Status - Finding the author of the original tweet"
   ]
  },
  {
   "cell_type": "code",
   "execution_count": 8,
   "metadata": {},
   "outputs": [],
   "source": [
    "def retweets(df):\n",
    "\n",
    "    df['retweeted_from_screen_name'] = df['retweeted_status'].apply(lambda x: x['user']['screen_name'] if x is not np.nan else None)\n",
    "\n",
    "    df['retweeted_from_id'] = df['retweeted_status'].apply(lambda x: x['user']['id_str'] if x is not np.nan else 0)\n",
    "\n",
    "    df['retweeted_from_is_verified'] = df['retweeted_status'].apply(lambda x: x['user']['verified'] if x is not np.nan else None)\n",
    "\n",
    "    df['retweet_full_text'] = df['retweeted_status'].apply(lambda x: x['full_text'] if x is not np.nan else None)\n",
    "\n",
    "    return df "
   ]
  },
  {
   "cell_type": "markdown",
   "metadata": {},
   "source": [
    "User - Information about the user"
   ]
  },
  {
   "cell_type": "code",
   "execution_count": 9,
   "metadata": {},
   "outputs": [],
   "source": [
    "def user(df):\n",
    "\n",
    "    df['user_screen_name'] = df['user'].apply(lambda x: x['screen_name'] if x is not np.nan else None)\n",
    "\n",
    "    df['user_id'] = df['user'].apply(lambda x: x['id_str'] if x is not np.nan else 0)\n",
    "\n",
    "    df['user_followers'] = df['user'].apply(lambda x: x['followers_count'] if x is not np.nan else None)\n",
    "\n",
    "    df['user_following'] = df['user'].apply(lambda x: x['friends_count'] if x is not np.nan else None)\n",
    "\n",
    "    df['user_is_verified'] = df['user'].apply(lambda x: x['verified'] if x is not np.nan else None)\n",
    "\n",
    "    return df"
   ]
  },
  {
   "cell_type": "code",
   "execution_count": 10,
   "metadata": {},
   "outputs": [],
   "source": [
    "## New Columns\n",
    "\n",
    "def destrinchando_colunas(df):\n",
    "    \n",
    "    mentions(df)\n",
    "    retweets(df)\n",
    "    user(df)\n",
    "\n",
    "    return df\n"
   ]
  },
  {
   "cell_type": "markdown",
   "metadata": {},
   "source": [
    "## Formating Datetime"
   ]
  },
  {
   "cell_type": "code",
   "execution_count": 11,
   "metadata": {},
   "outputs": [],
   "source": [
    "def format_created_at(df):\n",
    "\n",
    "    df['created_at'] = df['created_at'].apply(lambda x: datetime.strptime(x,'%a %b %d %H:%M:%S +0000 %Y'))\n",
    "\n",
    "    return df"
   ]
  },
  {
   "cell_type": "markdown",
   "metadata": {},
   "source": [
    "## Creating files"
   ]
  },
  {
   "cell_type": "code",
   "execution_count": 12,
   "metadata": {},
   "outputs": [],
   "source": [
    "def create_csv(df, file_name):\n",
    "    \n",
    "    df.to_csv(f'C:/Users/amand/Documents/Jupyter Notebooks/DisneyPlus/data_fulltext_csv/{file_name}.csv')"
   ]
  },
  {
   "cell_type": "code",
   "execution_count": 13,
   "metadata": {},
   "outputs": [],
   "source": [
    "def create_pickle(df, file_name):\n",
    "\n",
    "    df.to_pickle(f'C:/Users/amand/Documents/Jupyter Notebooks/DisneyPlus/data_fulltext_pkl/{file_name}.pkl')"
   ]
  },
  {
   "cell_type": "markdown",
   "metadata": {},
   "source": [
    "## Columns Filter"
   ]
  },
  {
   "cell_type": "code",
   "execution_count": 14,
   "metadata": {},
   "outputs": [],
   "source": [
    "def filter_columns(df):\n",
    "\n",
    "    important_columns = ['user_screen_name', 'user_id', 'user_is_verified', 'retweeted_from_screen_name', 'retweeted_from_id', 'retweeted_from_is_verified', 'screen_name_mention_1' , 'id_mention_1', 'in_reply_to_screen_name', 'in_reply_to_user_id', 'created_at', 'id', 'full_text','retweet_full_text','retweet_count', 'favorite_count', 'user_followers','user_following']\n",
    "\n",
    "    df = df[important_columns]\n",
    "\n",
    "    return df\n"
   ]
  },
  {
   "cell_type": "code",
   "execution_count": 15,
   "metadata": {},
   "outputs": [],
   "source": [
    "def filter_columns_graph_ids(df):\n",
    "\n",
    "    graph_columns_ids = ['user_id', 'retweeted_from_id' , 'id_mention_1', 'in_reply_to_user_id',  'id']\n",
    "\n",
    "    df = df[graph_columns_ids]\n",
    "\n",
    "    return df"
   ]
  },
  {
   "cell_type": "markdown",
   "metadata": {},
   "source": [
    "## Todo o processo"
   ]
  },
  {
   "cell_type": "code",
   "execution_count": 16,
   "metadata": {},
   "outputs": [],
   "source": [
    "def pega_tweets(search_words, until, lang, items, file_name):\n",
    "\n",
    "    api = get_auth_twitter()\n",
    "\n",
    "    cursor = search_for_tweets(api, search_words, until, lang, items)\n",
    "\n",
    "    tweets_list = iterator_to_list(cursor)\n",
    "\n",
    "    df = tweets_to_dataframe(tweets_list)\n",
    "    df = destrinchando_colunas(df)\n",
    "    df = format_created_at(df)\n",
    "\n",
    "    create_csv(df, file_name)\n",
    "    create_pickle(df, file_name)\n",
    "   \n",
    "    return df\n",
    "\n"
   ]
  },
  {
   "cell_type": "code",
   "execution_count": 17,
   "metadata": {},
   "outputs": [],
   "source": [
    "def pega_tweets_filtrado(search_words, until, lang, items, file_name):\n",
    "\n",
    "    \n",
    "    api = get_auth_twitter()\n",
    "    \n",
    "    cursor = search_for_tweets(api, search_words, until, lang, items)\n",
    "\n",
    "    tweets_list = iterator_to_list(cursor)\n",
    "\n",
    "    df = tweets_to_dataframe(tweets_list)\n",
    "    df = destrinchando_colunas(df)\n",
    "    df = format_created_at(df)\n",
    "    df = filter_columns (df)\n",
    "\n",
    "    create_csv(df, file_name)\n",
    "    create_pickle(df, file_name)\n",
    "   \n",
    "    return df\n"
   ]
  },
  {
   "cell_type": "markdown",
   "metadata": {},
   "source": [
    "## Project Name: DisneyPlus"
   ]
  },
  {
   "cell_type": "code",
   "execution_count": 18,
   "metadata": {},
   "outputs": [
    {
     "name": "stderr",
     "output_type": "stream",
     "text": [
      "Rate limit reached. Sleeping for: 513\n"
     ]
    }
   ],
   "source": [
    "df = pega_tweets_filtrado(\"DisneyPlus\", \"\", \"pt\", 80000, 'until_19_11')"
   ]
  },
  {
   "cell_type": "code",
   "execution_count": 19,
   "metadata": {},
   "outputs": [
    {
     "data": {
      "text/plain": [
       "62255   2020-11-10 10:12:09\n",
       "62254   2020-11-10 10:14:04\n",
       "62253   2020-11-10 10:55:23\n",
       "62252   2020-11-10 10:55:40\n",
       "62251   2020-11-10 10:55:43\n",
       "                ...        \n",
       "4       2020-11-19 13:57:25\n",
       "3       2020-11-19 13:57:33\n",
       "2       2020-11-19 13:57:56\n",
       "1       2020-11-19 13:58:11\n",
       "0       2020-11-19 13:58:15\n",
       "Name: created_at, Length: 62256, dtype: datetime64[ns]"
      ]
     },
     "execution_count": 19,
     "metadata": {},
     "output_type": "execute_result"
    }
   ],
   "source": [
    "df.created_at.sort_values()"
   ]
  },
  {
   "cell_type": "code",
   "execution_count": null,
   "metadata": {},
   "outputs": [],
   "source": [
    "break"
   ]
  },
  {
   "cell_type": "code",
   "execution_count": 64,
   "metadata": {},
   "outputs": [],
   "source": [
    "api = get_auth_twitter()"
   ]
  },
  {
   "cell_type": "code",
   "execution_count": 65,
   "metadata": {},
   "outputs": [],
   "source": [
    "cursor = search_for_tweets(api,\"DisneyPlus\", \"\", \"pt\", 10)"
   ]
  },
  {
   "cell_type": "code",
   "execution_count": 66,
   "metadata": {},
   "outputs": [],
   "source": [
    "lista = list(cursor)"
   ]
  },
  {
   "cell_type": "code",
   "execution_count": 74,
   "metadata": {},
   "outputs": [
    {
     "data": {
      "text/plain": [
       "{'created_at': 'Tue Nov 17 12:31:47 +0000 2020',\n",
       " 'id': 1328677211365404673,\n",
       " 'id_str': '1328677211365404673',\n",
       " 'full_text': 'O grande dia finalmente chegou. E este post talvez seja a última coisa que você vai ver antes de entrar no #DisneyPlus, então, aproveitando: use #QueroVerPrimeiro e conte pra gente o que você vai ver! 😉 https://t.co/2ctqjHlyNS',\n",
       " 'truncated': False,\n",
       " 'display_text_range': [0, 202],\n",
       " 'entities': {'hashtags': [{'text': 'DisneyPlus', 'indices': [107, 118]},\n",
       "   {'text': 'QueroVerPrimeiro', 'indices': [145, 162]}],\n",
       "  'symbols': [],\n",
       "  'user_mentions': [],\n",
       "  'urls': [],\n",
       "  'media': [{'id': 1328677174350635008,\n",
       "    'id_str': '1328677174350635008',\n",
       "    'indices': [203, 226],\n",
       "    'media_url': 'http://pbs.twimg.com/media/EnBo4PlWEAAL1J3.jpg',\n",
       "    'media_url_https': 'https://pbs.twimg.com/media/EnBo4PlWEAAL1J3.jpg',\n",
       "    'url': 'https://t.co/2ctqjHlyNS',\n",
       "    'display_url': 'pic.twitter.com/2ctqjHlyNS',\n",
       "    'expanded_url': 'https://twitter.com/DisneyPlusBR/status/1328677211365404673/video/1',\n",
       "    'type': 'photo',\n",
       "    'sizes': {'thumb': {'w': 150, 'h': 150, 'resize': 'crop'},\n",
       "     'small': {'w': 680, 'h': 680, 'resize': 'fit'},\n",
       "     'medium': {'w': 1200, 'h': 1200, 'resize': 'fit'},\n",
       "     'large': {'w': 1200, 'h': 1200, 'resize': 'fit'}}}]},\n",
       " 'extended_entities': {'media': [{'id': 1328677174350635008,\n",
       "    'id_str': '1328677174350635008',\n",
       "    'indices': [203, 226],\n",
       "    'media_url': 'http://pbs.twimg.com/media/EnBo4PlWEAAL1J3.jpg',\n",
       "    'media_url_https': 'https://pbs.twimg.com/media/EnBo4PlWEAAL1J3.jpg',\n",
       "    'url': 'https://t.co/2ctqjHlyNS',\n",
       "    'display_url': 'pic.twitter.com/2ctqjHlyNS',\n",
       "    'expanded_url': 'https://twitter.com/DisneyPlusBR/status/1328677211365404673/video/1',\n",
       "    'type': 'video',\n",
       "    'sizes': {'thumb': {'w': 150, 'h': 150, 'resize': 'crop'},\n",
       "     'small': {'w': 680, 'h': 680, 'resize': 'fit'},\n",
       "     'medium': {'w': 1200, 'h': 1200, 'resize': 'fit'},\n",
       "     'large': {'w': 1200, 'h': 1200, 'resize': 'fit'}},\n",
       "    'video_info': {'aspect_ratio': [1, 1],\n",
       "     'duration_millis': 6673,\n",
       "     'variants': [{'bitrate': 432000,\n",
       "       'content_type': 'video/mp4',\n",
       "       'url': 'https://video.twimg.com/amplify_video/1328677174350635008/vid/320x320/D45mgQaOwoPYi4-h.mp4?tag=13'},\n",
       "      {'bitrate': 1280000,\n",
       "       'content_type': 'video/mp4',\n",
       "       'url': 'https://video.twimg.com/amplify_video/1328677174350635008/vid/720x720/7lMXB5SoWH8CxYIP.mp4?tag=13'},\n",
       "      {'content_type': 'application/x-mpegURL',\n",
       "       'url': 'https://video.twimg.com/amplify_video/1328677174350635008/pl/doQZBkagdPGsc7cx.m3u8?tag=13'},\n",
       "      {'bitrate': 832000,\n",
       "       'content_type': 'video/mp4',\n",
       "       'url': 'https://video.twimg.com/amplify_video/1328677174350635008/vid/480x480/VfYDMVGsUnfRIw-d.mp4?tag=13'}]},\n",
       "    'additional_media_info': {'title': '',\n",
       "     'description': '',\n",
       "     'monetizable': False}}]},\n",
       " 'metadata': {'iso_language_code': 'pt', 'result_type': 'recent'},\n",
       " 'source': '<a href=\"https://www.sprinklr.com\" rel=\"nofollow\">Sprinklr</a>',\n",
       " 'in_reply_to_status_id': None,\n",
       " 'in_reply_to_status_id_str': None,\n",
       " 'in_reply_to_user_id': None,\n",
       " 'in_reply_to_user_id_str': None,\n",
       " 'in_reply_to_screen_name': None,\n",
       " 'user': {'id': 1011372006753746944,\n",
       "  'id_str': '1011372006753746944',\n",
       "  'name': 'Disney+ Brasil',\n",
       "  'screen_name': 'DisneyPlusBR',\n",
       "  'location': 'Brasil',\n",
       "  'description': 'Disney + Pixar + Marvel + Star Wars + National Geographic = #DisneyPlus 🤯\\nAs melhores histórias do mundo em um só lugar. Disponível agora.',\n",
       "  'url': 'https://t.co/9Dhp7KWOgx',\n",
       "  'entities': {'url': {'urls': [{'url': 'https://t.co/9Dhp7KWOgx',\n",
       "      'expanded_url': 'http://dis.bb/6008H65u6',\n",
       "      'display_url': 'dis.bb/6008H65u6',\n",
       "      'indices': [0, 23]}]},\n",
       "   'description': {'urls': []}},\n",
       "  'protected': False,\n",
       "  'followers_count': 115857,\n",
       "  'friends_count': 14,\n",
       "  'listed_count': 85,\n",
       "  'created_at': 'Mon Jun 25 22:14:11 +0000 2018',\n",
       "  'favourites_count': 31,\n",
       "  'utc_offset': None,\n",
       "  'time_zone': None,\n",
       "  'geo_enabled': False,\n",
       "  'verified': True,\n",
       "  'statuses_count': 231,\n",
       "  'lang': None,\n",
       "  'contributors_enabled': False,\n",
       "  'is_translator': False,\n",
       "  'is_translation_enabled': False,\n",
       "  'profile_background_color': 'F5F8FA',\n",
       "  'profile_background_image_url': None,\n",
       "  'profile_background_image_url_https': None,\n",
       "  'profile_background_tile': False,\n",
       "  'profile_image_url': 'http://pbs.twimg.com/profile_images/1237824712165769226/EfdIWdzK_normal.jpg',\n",
       "  'profile_image_url_https': 'https://pbs.twimg.com/profile_images/1237824712165769226/EfdIWdzK_normal.jpg',\n",
       "  'profile_banner_url': 'https://pbs.twimg.com/profile_banners/1011372006753746944/1605629060',\n",
       "  'profile_link_color': '1DA1F2',\n",
       "  'profile_sidebar_border_color': 'C0DEED',\n",
       "  'profile_sidebar_fill_color': 'DDEEF6',\n",
       "  'profile_text_color': '333333',\n",
       "  'profile_use_background_image': True,\n",
       "  'has_extended_profile': False,\n",
       "  'default_profile': True,\n",
       "  'default_profile_image': False,\n",
       "  'following': False,\n",
       "  'follow_request_sent': False,\n",
       "  'notifications': False,\n",
       "  'translator_type': 'none'},\n",
       " 'geo': None,\n",
       " 'coordinates': None,\n",
       " 'place': None,\n",
       " 'contributors': None,\n",
       " 'is_quote_status': False,\n",
       " 'retweet_count': 694,\n",
       " 'favorite_count': 22929,\n",
       " 'favorited': False,\n",
       " 'retweeted': False,\n",
       " 'possibly_sensitive': False,\n",
       " 'lang': 'pt'}"
      ]
     },
     "execution_count": 74,
     "metadata": {},
     "output_type": "execute_result"
    }
   ],
   "source": [
    "lista[0]._json.get('retweeted_status')"
   ]
  },
  {
   "cell_type": "code",
   "execution_count": 71,
   "metadata": {},
   "outputs": [
    {
     "data": {
      "text/plain": [
       "<tweepy.cursor.ItemIterator at 0x25668b76fd0>"
      ]
     },
     "execution_count": 71,
     "metadata": {},
     "output_type": "execute_result"
    }
   ],
   "source": [
    "cursor"
   ]
  }
 ],
 "metadata": {
  "kernelspec": {
   "display_name": "Python 3",
   "language": "python",
   "name": "python3"
  },
  "language_info": {
   "codemirror_mode": {
    "name": "ipython",
    "version": 3
   },
   "file_extension": ".py",
   "mimetype": "text/x-python",
   "name": "python",
   "nbconvert_exporter": "python",
   "pygments_lexer": "ipython3",
   "version": "3.8.5"
  }
 },
 "nbformat": 4,
 "nbformat_minor": 2
}

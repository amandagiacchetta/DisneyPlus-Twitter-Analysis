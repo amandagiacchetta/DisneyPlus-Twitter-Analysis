{
 "metadata": {
  "language_info": {
   "codemirror_mode": {
    "name": "ipython",
    "version": 3
   },
   "file_extension": ".py",
   "mimetype": "text/x-python",
   "name": "python",
   "nbconvert_exporter": "python",
   "pygments_lexer": "ipython3",
   "version": "3.7.6-final"
  },
  "orig_nbformat": 2,
  "kernelspec": {
   "name": "python3",
   "display_name": "Python 3"
  }
 },
 "nbformat": 4,
 "nbformat_minor": 2,
 "cells": [
  {
   "cell_type": "code",
   "execution_count": 14,
   "metadata": {},
   "outputs": [],
   "source": [
    "import tweepy\n",
    "import webbrowser\n",
    "import time"
   ]
  },
  {
   "cell_type": "code",
   "execution_count": null,
   "metadata": {},
   "outputs": [],
   "source": [
    "## Autenticação usando o protocolo padrão OAuth1"
   ]
  },
  {
   "cell_type": "code",
   "execution_count": 15,
   "metadata": {},
   "outputs": [],
   "source": [
    "api_key = 'drhztkGNhICDt3cwBGXi7zzQk'\n",
    "api_secret = 'FDeCBlSi4qIbR9oPsf3tphQjCO6HqZfYANWceYIdJDZHsOaabi'"
   ]
  },
  {
   "cell_type": "code",
   "execution_count": 16,
   "metadata": {},
   "outputs": [],
   "source": [
    "callback = 'oob'"
   ]
  },
  {
   "cell_type": "code",
   "execution_count": 17,
   "metadata": {},
   "outputs": [],
   "source": [
    "auth = tweepy.OAuthHandler(api_key, api_secret, callback)"
   ]
  },
  {
   "cell_type": "code",
   "execution_count": 18,
   "metadata": {},
   "outputs": [
    {
     "output_type": "stream",
     "name": "stdout",
     "text": [
      "https://api.twitter.com/oauth/authorize?oauth_token=LFWWYAAAAAABJL-IAAABdY9w9m0\n"
     ]
    }
   ],
   "source": [
    "redirect_url = auth.get_authorization_url()\n",
    "print(redirect_url)"
   ]
  },
  {
   "cell_type": "code",
   "execution_count": 19,
   "metadata": {},
   "outputs": [
    {
     "output_type": "execute_result",
     "data": {
      "text/plain": [
       "True"
      ]
     },
     "metadata": {},
     "execution_count": 19
    }
   ],
   "source": [
    "webbrowser.open(redirect_url)"
   ]
  },
  {
   "cell_type": "code",
   "execution_count": 20,
   "metadata": {},
   "outputs": [],
   "source": [
    "pin_input = input('Digite o pin:')"
   ]
  },
  {
   "cell_type": "code",
   "execution_count": 21,
   "metadata": {},
   "outputs": [
    {
     "output_type": "stream",
     "name": "stdout",
     "text": [
      "7876335\n"
     ]
    }
   ],
   "source": [
    "print(pin_input)"
   ]
  },
  {
   "cell_type": "code",
   "execution_count": 22,
   "metadata": {},
   "outputs": [
    {
     "output_type": "execute_result",
     "data": {
      "text/plain": [
       "('207778119-E9W1kqRXBbNeU2n8vcA0OoMn9XZpE9yvmZrD8gUx',\n",
       " 'dncbYQQrh5jlJ97OmgxeaGgqOFiC7jnNpXdPngWMCRtDE')"
      ]
     },
     "metadata": {},
     "execution_count": 22
    }
   ],
   "source": [
    "auth.get_access_token(pin_input)"
   ]
  },
  {
   "cell_type": "code",
   "execution_count": 23,
   "metadata": {},
   "outputs": [],
   "source": [
    "api = tweepy.API(auth)"
   ]
  },
  {
   "cell_type": "code",
   "execution_count": 24,
   "metadata": {},
   "outputs": [
    {
     "output_type": "execute_result",
     "data": {
      "text/plain": [
       "User(_api=<tweepy.api.API object at 0x000002228D536688>, _json={'id': 207778119, 'id_str': '207778119', 'name': 'Amanda', 'screen_name': 'amandagiacc', 'location': '', 'profile_location': None, 'description': '', 'url': None, 'entities': {'description': {'urls': []}}, 'protected': True, 'followers_count': 28, 'friends_count': 146, 'listed_count': 0, 'created_at': 'Tue Oct 26 00:53:01 +0000 2010', 'favourites_count': 70, 'utc_offset': None, 'time_zone': None, 'geo_enabled': False, 'verified': False, 'statuses_count': 177, 'lang': None, 'status': {'created_at': 'Mon Oct 26 18:42:12 +0000 2020', 'id': 1320797896300777473, 'id_str': '1320797896300777473', 'text': 'RT @astroposses: A NASA está anunciando agora que foi detectada água na Lua, pelo telescópio Sofia. É a primeira evidencia cientifica de qu…', 'truncated': False, 'entities': {'hashtags': [], 'symbols': [], 'user_mentions': [{'screen_name': 'astroposses', 'name': 'Ana Carolina Posses', 'id': 884451057744662528, 'id_str': '884451057744662528', 'indices': [3, 15]}], 'urls': []}, 'source': '<a href=\"https://mobile.twitter.com\" rel=\"nofollow\">Twitter Web App</a>', 'in_reply_to_status_id': None, 'in_reply_to_status_id_str': None, 'in_reply_to_user_id': None, 'in_reply_to_user_id_str': None, 'in_reply_to_screen_name': None, 'geo': None, 'coordinates': None, 'place': None, 'contributors': None, 'retweeted_status': {'created_at': 'Mon Oct 26 16:05:27 +0000 2020', 'id': 1320758449484038145, 'id_str': '1320758449484038145', 'text': 'A NASA está anunciando agora que foi detectada água na Lua, pelo telescópio Sofia. É a primeira evidencia cientific… https://t.co/XbDxO40Zt0', 'truncated': True, 'entities': {'hashtags': [], 'symbols': [], 'user_mentions': [], 'urls': [{'url': 'https://t.co/XbDxO40Zt0', 'expanded_url': 'https://twitter.com/i/web/status/1320758449484038145', 'display_url': 'twitter.com/i/web/status/1…', 'indices': [117, 140]}]}, 'source': '<a href=\"https://mobile.twitter.com\" rel=\"nofollow\">Twitter Web App</a>', 'in_reply_to_status_id': None, 'in_reply_to_status_id_str': None, 'in_reply_to_user_id': None, 'in_reply_to_user_id_str': None, 'in_reply_to_screen_name': None, 'geo': None, 'coordinates': None, 'place': None, 'contributors': None, 'is_quote_status': False, 'retweet_count': 2448, 'favorite_count': 11317, 'favorited': True, 'retweeted': True, 'possibly_sensitive': False, 'lang': 'pt'}, 'is_quote_status': False, 'retweet_count': 2448, 'favorite_count': 0, 'favorited': True, 'retweeted': True, 'lang': 'pt'}, 'contributors_enabled': False, 'is_translator': False, 'is_translation_enabled': False, 'profile_background_color': 'ACDED6', 'profile_background_image_url': 'http://abs.twimg.com/images/themes/theme18/bg.gif', 'profile_background_image_url_https': 'https://abs.twimg.com/images/themes/theme18/bg.gif', 'profile_background_tile': False, 'profile_image_url': 'http://pbs.twimg.com/profile_images/1220793134667517952/J7oc-jHZ_normal.jpg', 'profile_image_url_https': 'https://pbs.twimg.com/profile_images/1220793134667517952/J7oc-jHZ_normal.jpg', 'profile_banner_url': 'https://pbs.twimg.com/profile_banners/207778119/1579894768', 'profile_link_color': '038543', 'profile_sidebar_border_color': 'EEEEEE', 'profile_sidebar_fill_color': 'F6F6F6', 'profile_text_color': '333333', 'profile_use_background_image': True, 'has_extended_profile': False, 'default_profile': False, 'default_profile_image': False, 'following': False, 'follow_request_sent': False, 'notifications': False, 'translator_type': 'none', 'suspended': False, 'needs_phone_verification': False}, id=207778119, id_str='207778119', name='Amanda', screen_name='amandagiacc', location='', profile_location=None, description='', url=None, entities={'description': {'urls': []}}, protected=True, followers_count=28, friends_count=146, listed_count=0, created_at=datetime.datetime(2010, 10, 26, 0, 53, 1), favourites_count=70, utc_offset=None, time_zone=None, geo_enabled=False, verified=False, statuses_count=177, lang=None, status=Status(_api=<tweepy.api.API object at 0x000002228D536688>, _json={'created_at': 'Mon Oct 26 18:42:12 +0000 2020', 'id': 1320797896300777473, 'id_str': '1320797896300777473', 'text': 'RT @astroposses: A NASA está anunciando agora que foi detectada água na Lua, pelo telescópio Sofia. É a primeira evidencia cientifica de qu…', 'truncated': False, 'entities': {'hashtags': [], 'symbols': [], 'user_mentions': [{'screen_name': 'astroposses', 'name': 'Ana Carolina Posses', 'id': 884451057744662528, 'id_str': '884451057744662528', 'indices': [3, 15]}], 'urls': []}, 'source': '<a href=\"https://mobile.twitter.com\" rel=\"nofollow\">Twitter Web App</a>', 'in_reply_to_status_id': None, 'in_reply_to_status_id_str': None, 'in_reply_to_user_id': None, 'in_reply_to_user_id_str': None, 'in_reply_to_screen_name': None, 'geo': None, 'coordinates': None, 'place': None, 'contributors': None, 'retweeted_status': {'created_at': 'Mon Oct 26 16:05:27 +0000 2020', 'id': 1320758449484038145, 'id_str': '1320758449484038145', 'text': 'A NASA está anunciando agora que foi detectada água na Lua, pelo telescópio Sofia. É a primeira evidencia cientific… https://t.co/XbDxO40Zt0', 'truncated': True, 'entities': {'hashtags': [], 'symbols': [], 'user_mentions': [], 'urls': [{'url': 'https://t.co/XbDxO40Zt0', 'expanded_url': 'https://twitter.com/i/web/status/1320758449484038145', 'display_url': 'twitter.com/i/web/status/1…', 'indices': [117, 140]}]}, 'source': '<a href=\"https://mobile.twitter.com\" rel=\"nofollow\">Twitter Web App</a>', 'in_reply_to_status_id': None, 'in_reply_to_status_id_str': None, 'in_reply_to_user_id': None, 'in_reply_to_user_id_str': None, 'in_reply_to_screen_name': None, 'geo': None, 'coordinates': None, 'place': None, 'contributors': None, 'is_quote_status': False, 'retweet_count': 2448, 'favorite_count': 11317, 'favorited': True, 'retweeted': True, 'possibly_sensitive': False, 'lang': 'pt'}, 'is_quote_status': False, 'retweet_count': 2448, 'favorite_count': 0, 'favorited': True, 'retweeted': True, 'lang': 'pt'}, created_at=datetime.datetime(2020, 10, 26, 18, 42, 12), id=1320797896300777473, id_str='1320797896300777473', text='RT @astroposses: A NASA está anunciando agora que foi detectada água na Lua, pelo telescópio Sofia. É a primeira evidencia cientifica de qu…', truncated=False, entities={'hashtags': [], 'symbols': [], 'user_mentions': [{'screen_name': 'astroposses', 'name': 'Ana Carolina Posses', 'id': 884451057744662528, 'id_str': '884451057744662528', 'indices': [3, 15]}], 'urls': []}, source='Twitter Web App', source_url='https://mobile.twitter.com', in_reply_to_status_id=None, in_reply_to_status_id_str=None, in_reply_to_user_id=None, in_reply_to_user_id_str=None, in_reply_to_screen_name=None, geo=None, coordinates=None, place=None, contributors=None, retweeted_status=Status(_api=<tweepy.api.API object at 0x000002228D536688>, _json={'created_at': 'Mon Oct 26 16:05:27 +0000 2020', 'id': 1320758449484038145, 'id_str': '1320758449484038145', 'text': 'A NASA está anunciando agora que foi detectada água na Lua, pelo telescópio Sofia. É a primeira evidencia cientific… https://t.co/XbDxO40Zt0', 'truncated': True, 'entities': {'hashtags': [], 'symbols': [], 'user_mentions': [], 'urls': [{'url': 'https://t.co/XbDxO40Zt0', 'expanded_url': 'https://twitter.com/i/web/status/1320758449484038145', 'display_url': 'twitter.com/i/web/status/1…', 'indices': [117, 140]}]}, 'source': '<a href=\"https://mobile.twitter.com\" rel=\"nofollow\">Twitter Web App</a>', 'in_reply_to_status_id': None, 'in_reply_to_status_id_str': None, 'in_reply_to_user_id': None, 'in_reply_to_user_id_str': None, 'in_reply_to_screen_name': None, 'geo': None, 'coordinates': None, 'place': None, 'contributors': None, 'is_quote_status': False, 'retweet_count': 2448, 'favorite_count': 11317, 'favorited': True, 'retweeted': True, 'possibly_sensitive': False, 'lang': 'pt'}, created_at=datetime.datetime(2020, 10, 26, 16, 5, 27), id=1320758449484038145, id_str='1320758449484038145', text='A NASA está anunciando agora que foi detectada água na Lua, pelo telescópio Sofia. É a primeira evidencia cientific… https://t.co/XbDxO40Zt0', truncated=True, entities={'hashtags': [], 'symbols': [], 'user_mentions': [], 'urls': [{'url': 'https://t.co/XbDxO40Zt0', 'expanded_url': 'https://twitter.com/i/web/status/1320758449484038145', 'display_url': 'twitter.com/i/web/status/1…', 'indices': [117, 140]}]}, source='Twitter Web App', source_url='https://mobile.twitter.com', in_reply_to_status_id=None, in_reply_to_status_id_str=None, in_reply_to_user_id=None, in_reply_to_user_id_str=None, in_reply_to_screen_name=None, geo=None, coordinates=None, place=None, contributors=None, is_quote_status=False, retweet_count=2448, favorite_count=11317, favorited=True, retweeted=True, possibly_sensitive=False, lang='pt'), is_quote_status=False, retweet_count=2448, favorite_count=0, favorited=True, retweeted=True, lang='pt'), contributors_enabled=False, is_translator=False, is_translation_enabled=False, profile_background_color='ACDED6', profile_background_image_url='http://abs.twimg.com/images/themes/theme18/bg.gif', profile_background_image_url_https='https://abs.twimg.com/images/themes/theme18/bg.gif', profile_background_tile=False, profile_image_url='http://pbs.twimg.com/profile_images/1220793134667517952/J7oc-jHZ_normal.jpg', profile_image_url_https='https://pbs.twimg.com/profile_images/1220793134667517952/J7oc-jHZ_normal.jpg', profile_banner_url='https://pbs.twimg.com/profile_banners/207778119/1579894768', profile_link_color='038543', profile_sidebar_border_color='EEEEEE', profile_sidebar_fill_color='F6F6F6', profile_text_color='333333', profile_use_background_image=True, has_extended_profile=False, default_profile=False, default_profile_image=False, following=False, follow_request_sent=False, notifications=False, translator_type='none', suspended=False, needs_phone_verification=False)"
      ]
     },
     "metadata": {},
     "execution_count": 24
    }
   ],
   "source": [
    "api.me()"
   ]
  },
  {
   "cell_type": "code",
   "execution_count": null,
   "metadata": {},
   "outputs": [],
   "source": [
    "tweets = api.search('Disney Plus', )"
   ]
  }
 ]
}
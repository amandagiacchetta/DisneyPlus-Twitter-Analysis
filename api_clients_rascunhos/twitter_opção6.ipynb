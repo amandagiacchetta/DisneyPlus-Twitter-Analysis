{
 "cells": [
  {
   "source": [
    "# Twitter API v1.1 Client"
   ],
   "cell_type": "markdown",
   "metadata": {}
  },
  {
   "cell_type": "code",
   "execution_count": 2,
   "metadata": {},
   "outputs": [],
   "source": [
    "import tweepy\n",
    "import pandas as pd \n",
    "import numpy as np\n",
    "import datetime "
   ]
  },
  {
   "source": [
    "## Autentication"
   ],
   "cell_type": "markdown",
   "metadata": {}
  },
  {
   "cell_type": "code",
   "execution_count": 3,
   "metadata": {},
   "outputs": [],
   "source": [
    "def get_auth_twitter():\n",
    "\n",
    "        consumer_key= 'drhztkGNhICDt3cwBGXi7zzQk'\n",
    "        consumer_secret= 'FDeCBlSi4qIbR9oPsf3tphQjCO6HqZfYANWceYIdJDZHsOaabi'\n",
    "        access_token= '207778119-E9W1kqRXBbNeU2n8vcA0OoMn9XZpE9yvmZrD8gUx'\n",
    "        access_token_secret= 'dncbYQQrh5jlJ97OmgxeaGgqOFiC7jnNpXdPngWMCRtDE'\n",
    "        auth = tweepy.OAuthHandler(consumer_key, consumer_secret)\n",
    "        auth.set_access_token(access_token, access_token_secret)\n",
    "        api = tweepy.API(auth, wait_on_rate_limit=True, wait_on_rate_limit_notify=True)\n",
    "\n",
    "        return api\n"
   ]
  },
  {
   "source": [
    "## Query API V1"
   ],
   "cell_type": "markdown",
   "metadata": {}
  },
  {
   "cell_type": "code",
   "execution_count": 139,
   "metadata": {},
   "outputs": [],
   "source": [
    "def search_for_tweets(search_words, until, lang, items):\n",
    "\n",
    "        ##search_words = \"DisneyPlus\"\n",
    "        ##until= \"2020-11-03\"\n",
    "        ##lang = 'pt'\n",
    "\n",
    "        cursor = tweepy.Cursor(api.search,\n",
    "                    q=search_words,\n",
    "                    lang=lang,\n",
    "                    until= until).items(items)\n",
    "\n",
    "        return cursor"
   ]
  },
  {
   "source": [
    "## Cursor to List"
   ],
   "cell_type": "markdown",
   "metadata": {}
  },
  {
   "cell_type": "code",
   "execution_count": 140,
   "metadata": {},
   "outputs": [],
   "source": [
    "def iterator_to_list(cursor):\n",
    "\n",
    "    return list(cursor)      "
   ]
  },
  {
   "cell_type": "code",
   "execution_count": 254,
   "metadata": {},
   "outputs": [],
   "source": [
    "all_tweets_list[0]._json['in_reply_to_status_id'] = 0"
   ]
  },
  {
   "cell_type": "code",
   "execution_count": 266,
   "metadata": {},
   "outputs": [
    {
     "output_type": "execute_result",
     "data": {
      "text/plain": [
       "1326570384032886784"
      ]
     },
     "metadata": {},
     "execution_count": 266
    }
   ],
   "source": [
    "all_tweets_list[4]._json['quoted_status_id']"
   ]
  },
  {
   "source": [
    "## Creating a DF"
   ],
   "cell_type": "markdown",
   "metadata": {}
  },
  {
   "cell_type": "code",
   "execution_count": 256,
   "metadata": {},
   "outputs": [],
   "source": [
    "\n",
    "def tweets_to_dataframe(tweets_list):\n",
    "\n",
    "    columns = set()\n",
    "    \n",
    "    tweets_data = []\n",
    "\n",
    "    \n",
    "    for tweet in tweets_list:\n",
    "        keys = tweet._json.keys()\n",
    "        single_data = {}\n",
    "        \n",
    "        \n",
    "        for k in keys:\n",
    "\n",
    "            valor = tweet._json.get(k)\n",
    "\n",
    "            if tweet._json.get(k) == None:\n",
    "\n",
    "                try:\n",
    "\n",
    "                    single_data[k] = 0\n",
    "\n",
    "                except Exception as e:\n",
    "                    print(e)\n",
    "                \n",
    "            \n",
    "            else:\n",
    "              \n",
    "               try:\n",
    "                    single_data[k] = tweet._json.get(k)\n",
    "               \n",
    "               except Exception as e:\n",
    "                    print(e)\n",
    "                    single_data[k] = 0\n",
    "\n",
    "                \n",
    "            \n",
    "            columns.add(k)\n",
    "\n",
    "        tweets_data.append(single_data)    \n",
    "    \n",
    "\n",
    "    header_cols = list(columns)\n",
    "    df = pd.DataFrame(tweets_data, columns=header_cols)\n",
    "    df.head()\n",
    "    \n",
    "    return df"
   ]
  },
  {
   "source": [
    "## Extracting data from objects"
   ],
   "cell_type": "markdown",
   "metadata": {}
  },
  {
   "source": [
    "Entities column: finding mentions"
   ],
   "cell_type": "markdown",
   "metadata": {}
  },
  {
   "cell_type": "code",
   "execution_count": 327,
   "metadata": {},
   "outputs": [],
   "source": [
    "def mentions(df):\n",
    "\n",
    "        df['screen_name_mention_1'] = df['entities'].apply(lambda x: x['user_mentions'][0]['screen_name'] if x['user_mentions'] else None)\n",
    "\n",
    "        df['id_mention_1'] = df['entities'].apply(lambda x: x['user_mentions'][0]['id_str'] if x['user_mentions'] else 0)\n",
    "\n",
    "        return df"
   ]
  },
  {
   "source": [
    "Retweeted_Status - Finding the author of the original tweet"
   ],
   "cell_type": "markdown",
   "metadata": {}
  },
  {
   "cell_type": "code",
   "execution_count": 273,
   "metadata": {},
   "outputs": [],
   "source": [
    "def retweets(df):\n",
    "\n",
    "    df['retweeted_from_screen_name'] = df['retweeted_status'].apply(lambda x: x['user']['screen_name'] if x is not np.nan else None)\n",
    "\n",
    "    df['retweeted_from_id'] = df['retweeted_status'].apply(lambda x: x['user']['id_str'] if x is not np.nan else 0)\n",
    "\n",
    "    df['retweeted_from_is_verified'] = df['retweeted_status'].apply(lambda x: x['user']['verified'] if x is not np.nan else None)\n",
    "\n",
    "    return df "
   ]
  },
  {
   "source": [
    "User - Information about the user"
   ],
   "cell_type": "markdown",
   "metadata": {}
  },
  {
   "cell_type": "code",
   "execution_count": 274,
   "metadata": {},
   "outputs": [],
   "source": [
    "def user(df):\n",
    "\n",
    "    df['user_screen_name'] = df['user'].apply(lambda x: x['screen_name'] if x is not np.nan else None)\n",
    "\n",
    "    df['user_id'] = df['user'].apply(lambda x: x['id_str'] if x is not np.nan else 0)\n",
    "\n",
    "    df['user_followers'] = df['user'].apply(lambda x: x['followers_count'] if x is not np.nan else None)\n",
    "\n",
    "    df['user_following'] = df['user'].apply(lambda x: x['friends_count'] if x is not np.nan else None)\n",
    "\n",
    "    df['user_is_verified'] = df['user'].apply(lambda x: x['verified'] if x is not np.nan else None)\n",
    "\n",
    "    return df"
   ]
  },
  {
   "cell_type": "code",
   "execution_count": 328,
   "metadata": {},
   "outputs": [],
   "source": [
    "## New Columns\n",
    "\n",
    "def destrinchando_colunas(df):\n",
    "    \n",
    "    mentions(df)\n",
    "    retweets(df)\n",
    "    user(df)\n",
    "\n",
    "    return df\n"
   ]
  },
  {
   "source": [
    "## Formating Datetime"
   ],
   "cell_type": "markdown",
   "metadata": {}
  },
  {
   "cell_type": "code",
   "execution_count": 314,
   "metadata": {},
   "outputs": [],
   "source": [
    "def format_created_at(df):\n",
    "\n",
    "    df['created_at'] = df['created_at'].apply(lambda x: datetime.strftime(datetime.strptime(x,'%a %b %d %H:%M:%S +0000 %Y'), '%Y-%m-%d %H:%M:%S'))\n",
    "\n",
    "    return df"
   ]
  },
  {
   "source": [
    "## Creating files"
   ],
   "cell_type": "markdown",
   "metadata": {}
  },
  {
   "cell_type": "code",
   "execution_count": 64,
   "metadata": {},
   "outputs": [],
   "source": [
    "def create_csv(df, file_name):\n",
    "    \n",
    "    df.to_csv(f'C:/Users/amand/Documents/Jupyter Notebooks/DisneyPlus/Data/{file_name}.csv')"
   ]
  },
  {
   "cell_type": "code",
   "execution_count": 117,
   "metadata": {},
   "outputs": [],
   "source": [
    "def create_pickle(df, file_name):\n",
    "\n",
    "    df.to_pickle(f'C:/Users/amand/Documents/Jupyter Notebooks/DisneyPlus/Data/{file_name}.pkl')"
   ]
  },
  {
   "source": [
    "# Testing Functions"
   ],
   "cell_type": "markdown",
   "metadata": {}
  },
  {
   "source": [
    "Raw Data"
   ],
   "cell_type": "markdown",
   "metadata": {}
  },
  {
   "cell_type": "code",
   "execution_count": 286,
   "metadata": {},
   "outputs": [],
   "source": [
    "api = get_auth_twitter()"
   ]
  },
  {
   "cell_type": "code",
   "execution_count": 329,
   "metadata": {},
   "outputs": [],
   "source": [
    "all_tweets = search_for_tweets(\"DisneyPlus\", \"2020-11-04\", 'pt', 100)"
   ]
  },
  {
   "cell_type": "code",
   "execution_count": 330,
   "metadata": {},
   "outputs": [],
   "source": [
    "all_tweets_list = iterator_to_list(all_tweets)"
   ]
  },
  {
   "source": [
    "DataFrame"
   ],
   "cell_type": "markdown",
   "metadata": {}
  },
  {
   "cell_type": "code",
   "execution_count": 331,
   "metadata": {},
   "outputs": [],
   "source": [
    "df= tweets_to_dataframe(all_tweets_list)"
   ]
  },
  {
   "cell_type": "code",
   "execution_count": 332,
   "metadata": {},
   "outputs": [],
   "source": [
    "df2 = destrinchando_colunas(df)"
   ]
  },
  {
   "source": [
    "## Selecting Columns"
   ],
   "cell_type": "markdown",
   "metadata": {}
  },
  {
   "cell_type": "code",
   "execution_count": 124,
   "metadata": {},
   "outputs": [],
   "source": [
    "graph_columns_ids = ['user_id', 'retweeted_from_id' , 'id_mention_1', 'in_reply_to_user_id',  'id']"
   ]
  },
  {
   "cell_type": "code",
   "execution_count": 291,
   "metadata": {},
   "outputs": [],
   "source": [
    "important_columns = ['user_screen_name', 'user_id', 'user_is_verified', 'retweeted_from_screen_name', 'retweeted_from_id', 'retweeted_from_is_verified', 'screen_name_mention_1' , 'id_mention_1', 'in_reply_to_screen_name', 'in_reply_to_user_id', 'created_at', 'id', 'text']"
   ]
  },
  {
   "cell_type": "code",
   "execution_count": 292,
   "metadata": {},
   "outputs": [],
   "source": [
    "df3 = df2[graph_columns_ids]"
   ]
  },
  {
   "cell_type": "code",
   "execution_count": 333,
   "metadata": {},
   "outputs": [],
   "source": [
    "df4 = df2[important_columns]"
   ]
  },
  {
   "cell_type": "code",
   "execution_count": 334,
   "metadata": {},
   "outputs": [
    {
     "output_type": "execute_result",
     "data": {
      "text/plain": [
       "0     Tue Nov 03 23:58:55 +0000 2020\n",
       "1     Tue Nov 03 23:58:34 +0000 2020\n",
       "2     Tue Nov 03 23:58:21 +0000 2020\n",
       "3     Tue Nov 03 23:58:12 +0000 2020\n",
       "4     Tue Nov 03 23:57:51 +0000 2020\n",
       "                   ...              \n",
       "95    Tue Nov 03 23:04:52 +0000 2020\n",
       "96    Tue Nov 03 23:04:49 +0000 2020\n",
       "97    Tue Nov 03 23:02:59 +0000 2020\n",
       "98    Tue Nov 03 23:02:46 +0000 2020\n",
       "99    Tue Nov 03 23:02:34 +0000 2020\n",
       "Name: created_at, Length: 100, dtype: object"
      ]
     },
     "metadata": {},
     "execution_count": 334
    }
   ],
   "source": [
    "df4.created_at"
   ]
  },
  {
   "cell_type": "code",
   "execution_count": 335,
   "metadata": {},
   "outputs": [],
   "source": [
    "df4 = format_created_at(df4)"
   ]
  },
  {
   "cell_type": "code",
   "execution_count": 304,
   "metadata": {},
   "outputs": [],
   "source": [
    "df4['created_at'] = df4['created_at'].apply(lambda x: datetime.strftime(datetime.strptime(x,'%a %b %d %H:%M:%S +0000 %Y'), '%Y-%m-%d %H:%M:%S'))"
   ]
  },
  {
   "cell_type": "code",
   "execution_count": 308,
   "metadata": {},
   "outputs": [],
   "source": [
    "import matplotlib.pyplot as plt"
   ]
  },
  {
   "cell_type": "code",
   "execution_count": 336,
   "metadata": {},
   "outputs": [
    {
     "output_type": "execute_result",
     "data": {
      "text/plain": [
       "   user_screen_name              user_id  user_is_verified  \\\n",
       "0     Jose_Navas_Jr             32901996             False   \n",
       "1   zucatellidanilo           2978733862             False   \n",
       "2    WilliamsHenriq           1462821571             False   \n",
       "3       Karolmebaby  1025340762303750144             False   \n",
       "4          ally_blu            225906556             False   \n",
       "..              ...                  ...               ...   \n",
       "95          eudahan           4330786047             False   \n",
       "96      LovztoRuins           2777259895             False   \n",
       "97     YonahSantos1  1323508103732727809             False   \n",
       "98        whoiswenz   795802693952565248             False   \n",
       "99   fabricio999999             21342548             False   \n",
       "\n",
       "   retweeted_from_screen_name    retweeted_from_id retweeted_from_is_verified  \\\n",
       "0                     vcfaztv             16354038                      False   \n",
       "1                   globoplay             55569724                       True   \n",
       "2                   globoplay             55569724                       True   \n",
       "3                 ManulovesKs  1204569627201855489                      False   \n",
       "4                   globoplay             55569724                       True   \n",
       "..                        ...                  ...                        ...   \n",
       "95              jurandirfilho              8703862                      False   \n",
       "96                   BwayMeme           3048169227                      False   \n",
       "97               DisneyPlusBR  1011372006753746944                       True   \n",
       "98                       None                    0                       None   \n",
       "99              jurandirfilho              8703862                      False   \n",
       "\n",
       "   screen_name_mention_1         id_mention_1 in_reply_to_screen_name  \\\n",
       "0                vcfaztv             16354038                       0   \n",
       "1              globoplay             55569724                       0   \n",
       "2              globoplay             55569724                       0   \n",
       "3            ManulovesKs  1204569627201855489                       0   \n",
       "4              globoplay             55569724                       0   \n",
       "..                   ...                  ...                     ...   \n",
       "95         jurandirfilho              8703862                       0   \n",
       "96              BwayMeme           3048169227                       0   \n",
       "97          DisneyPlusBR  1011372006753746944                       0   \n",
       "98                  None                    0                       0   \n",
       "99         jurandirfilho              8703862                       0   \n",
       "\n",
       "    in_reply_to_user_id           created_at                   id  \\\n",
       "0                     0  2020-11-03 23:58:55  1323776705912315911   \n",
       "1                     0  2020-11-03 23:58:34  1323776617806704643   \n",
       "2                     0  2020-11-03 23:58:21  1323776560634175490   \n",
       "3                     0  2020-11-03 23:58:12  1323776525058084864   \n",
       "4                     0  2020-11-03 23:57:51  1323776436445085698   \n",
       "..                  ...                  ...                  ...   \n",
       "95                    0  2020-11-03 23:04:52  1323763102727442433   \n",
       "96                    0  2020-11-03 23:04:49  1323763089171451905   \n",
       "97                    0  2020-11-03 23:02:59  1323762629878435840   \n",
       "98                    0  2020-11-03 23:02:46  1323762573695746051   \n",
       "99                    0  2020-11-03 23:02:34  1323762522047062016   \n",
       "\n",
       "                                                 text  \n",
       "0   RT @vcfaztv: Os serviços de streaming Globopla...  \n",
       "1   RT @globoplay: ✨Os sonhos são reais✨\\nQuer ser...  \n",
       "2   RT @globoplay: ✨Os sonhos são reais✨\\nQuer ser...  \n",
       "3   RT @ManulovesKs: Só pago 27,90 no Disney Plus ...  \n",
       "4   RT @globoplay: 💫\"Qualquer coisa que seu coraçã...  \n",
       "..                                                ...  \n",
       "95  RT @jurandirfilho: A @DisneyPlusBR vai chegar ...  \n",
       "96  RT @BwayMeme: 🚨O Disney+ (com seu vasto catalo...  \n",
       "97  RT @DisneyPlusBR: A vida é cheia de possibilid...  \n",
       "98       GLOBOPLAY COM DISNEYPLUS QUE HISTORIA É ESSA  \n",
       "99  RT @jurandirfilho: A @DisneyPlusBR vai chegar ...  \n",
       "\n",
       "[100 rows x 13 columns]"
      ],
      "text/html": "<div>\n<style scoped>\n    .dataframe tbody tr th:only-of-type {\n        vertical-align: middle;\n    }\n\n    .dataframe tbody tr th {\n        vertical-align: top;\n    }\n\n    .dataframe thead th {\n        text-align: right;\n    }\n</style>\n<table border=\"1\" class=\"dataframe\">\n  <thead>\n    <tr style=\"text-align: right;\">\n      <th></th>\n      <th>user_screen_name</th>\n      <th>user_id</th>\n      <th>user_is_verified</th>\n      <th>retweeted_from_screen_name</th>\n      <th>retweeted_from_id</th>\n      <th>retweeted_from_is_verified</th>\n      <th>screen_name_mention_1</th>\n      <th>id_mention_1</th>\n      <th>in_reply_to_screen_name</th>\n      <th>in_reply_to_user_id</th>\n      <th>created_at</th>\n      <th>id</th>\n      <th>text</th>\n    </tr>\n  </thead>\n  <tbody>\n    <tr>\n      <th>0</th>\n      <td>Jose_Navas_Jr</td>\n      <td>32901996</td>\n      <td>False</td>\n      <td>vcfaztv</td>\n      <td>16354038</td>\n      <td>False</td>\n      <td>vcfaztv</td>\n      <td>16354038</td>\n      <td>0</td>\n      <td>0</td>\n      <td>2020-11-03 23:58:55</td>\n      <td>1323776705912315911</td>\n      <td>RT @vcfaztv: Os serviços de streaming Globopla...</td>\n    </tr>\n    <tr>\n      <th>1</th>\n      <td>zucatellidanilo</td>\n      <td>2978733862</td>\n      <td>False</td>\n      <td>globoplay</td>\n      <td>55569724</td>\n      <td>True</td>\n      <td>globoplay</td>\n      <td>55569724</td>\n      <td>0</td>\n      <td>0</td>\n      <td>2020-11-03 23:58:34</td>\n      <td>1323776617806704643</td>\n      <td>RT @globoplay: ✨Os sonhos são reais✨\\nQuer ser...</td>\n    </tr>\n    <tr>\n      <th>2</th>\n      <td>WilliamsHenriq</td>\n      <td>1462821571</td>\n      <td>False</td>\n      <td>globoplay</td>\n      <td>55569724</td>\n      <td>True</td>\n      <td>globoplay</td>\n      <td>55569724</td>\n      <td>0</td>\n      <td>0</td>\n      <td>2020-11-03 23:58:21</td>\n      <td>1323776560634175490</td>\n      <td>RT @globoplay: ✨Os sonhos são reais✨\\nQuer ser...</td>\n    </tr>\n    <tr>\n      <th>3</th>\n      <td>Karolmebaby</td>\n      <td>1025340762303750144</td>\n      <td>False</td>\n      <td>ManulovesKs</td>\n      <td>1204569627201855489</td>\n      <td>False</td>\n      <td>ManulovesKs</td>\n      <td>1204569627201855489</td>\n      <td>0</td>\n      <td>0</td>\n      <td>2020-11-03 23:58:12</td>\n      <td>1323776525058084864</td>\n      <td>RT @ManulovesKs: Só pago 27,90 no Disney Plus ...</td>\n    </tr>\n    <tr>\n      <th>4</th>\n      <td>ally_blu</td>\n      <td>225906556</td>\n      <td>False</td>\n      <td>globoplay</td>\n      <td>55569724</td>\n      <td>True</td>\n      <td>globoplay</td>\n      <td>55569724</td>\n      <td>0</td>\n      <td>0</td>\n      <td>2020-11-03 23:57:51</td>\n      <td>1323776436445085698</td>\n      <td>RT @globoplay: 💫\"Qualquer coisa que seu coraçã...</td>\n    </tr>\n    <tr>\n      <th>...</th>\n      <td>...</td>\n      <td>...</td>\n      <td>...</td>\n      <td>...</td>\n      <td>...</td>\n      <td>...</td>\n      <td>...</td>\n      <td>...</td>\n      <td>...</td>\n      <td>...</td>\n      <td>...</td>\n      <td>...</td>\n      <td>...</td>\n    </tr>\n    <tr>\n      <th>95</th>\n      <td>eudahan</td>\n      <td>4330786047</td>\n      <td>False</td>\n      <td>jurandirfilho</td>\n      <td>8703862</td>\n      <td>False</td>\n      <td>jurandirfilho</td>\n      <td>8703862</td>\n      <td>0</td>\n      <td>0</td>\n      <td>2020-11-03 23:04:52</td>\n      <td>1323763102727442433</td>\n      <td>RT @jurandirfilho: A @DisneyPlusBR vai chegar ...</td>\n    </tr>\n    <tr>\n      <th>96</th>\n      <td>LovztoRuins</td>\n      <td>2777259895</td>\n      <td>False</td>\n      <td>BwayMeme</td>\n      <td>3048169227</td>\n      <td>False</td>\n      <td>BwayMeme</td>\n      <td>3048169227</td>\n      <td>0</td>\n      <td>0</td>\n      <td>2020-11-03 23:04:49</td>\n      <td>1323763089171451905</td>\n      <td>RT @BwayMeme: 🚨O Disney+ (com seu vasto catalo...</td>\n    </tr>\n    <tr>\n      <th>97</th>\n      <td>YonahSantos1</td>\n      <td>1323508103732727809</td>\n      <td>False</td>\n      <td>DisneyPlusBR</td>\n      <td>1011372006753746944</td>\n      <td>True</td>\n      <td>DisneyPlusBR</td>\n      <td>1011372006753746944</td>\n      <td>0</td>\n      <td>0</td>\n      <td>2020-11-03 23:02:59</td>\n      <td>1323762629878435840</td>\n      <td>RT @DisneyPlusBR: A vida é cheia de possibilid...</td>\n    </tr>\n    <tr>\n      <th>98</th>\n      <td>whoiswenz</td>\n      <td>795802693952565248</td>\n      <td>False</td>\n      <td>None</td>\n      <td>0</td>\n      <td>None</td>\n      <td>None</td>\n      <td>0</td>\n      <td>0</td>\n      <td>0</td>\n      <td>2020-11-03 23:02:46</td>\n      <td>1323762573695746051</td>\n      <td>GLOBOPLAY COM DISNEYPLUS QUE HISTORIA É ESSA</td>\n    </tr>\n    <tr>\n      <th>99</th>\n      <td>fabricio999999</td>\n      <td>21342548</td>\n      <td>False</td>\n      <td>jurandirfilho</td>\n      <td>8703862</td>\n      <td>False</td>\n      <td>jurandirfilho</td>\n      <td>8703862</td>\n      <td>0</td>\n      <td>0</td>\n      <td>2020-11-03 23:02:34</td>\n      <td>1323762522047062016</td>\n      <td>RT @jurandirfilho: A @DisneyPlusBR vai chegar ...</td>\n    </tr>\n  </tbody>\n</table>\n<p>100 rows × 13 columns</p>\n</div>"
     },
     "metadata": {},
     "execution_count": 336
    }
   ],
   "source": [
    "df4"
   ]
  },
  {
   "cell_type": "code",
   "execution_count": 337,
   "metadata": {},
   "outputs": [],
   "source": [
    "create_pickle(df4,'until_04_11')"
   ]
  },
  {
   "cell_type": "code",
   "execution_count": 338,
   "metadata": {},
   "outputs": [],
   "source": [
    "create_csv(df4, 'until_04_11')"
   ]
  }
 ],
 "metadata": {
  "kernelspec": {
   "name": "Python 3.8.0 64-bit ('disneyplus': conda)",
   "display_name": "Python 3.8.0 64-bit ('disneyplus': conda)",
   "metadata": {
    "interpreter": {
     "hash": "6e8d50762252da5a05abcadd322ec1792202d61bdb34674a0f4cb85c81b89e09"
    }
   }
  },
  "language_info": {
   "codemirror_mode": {
    "name": "ipython",
    "version": 3
   },
   "file_extension": ".py",
   "mimetype": "text/x-python",
   "name": "python",
   "nbconvert_exporter": "python",
   "pygments_lexer": "ipython3",
   "version": "3.8.0-final"
  }
 },
 "nbformat": 4,
 "nbformat_minor": 2
}
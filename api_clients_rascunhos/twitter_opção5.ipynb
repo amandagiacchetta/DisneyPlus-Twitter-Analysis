{
 "cells": [
  {
   "source": [
    "## Twitter API v1.1 Client"
   ],
   "cell_type": "markdown",
   "metadata": {}
  },
  {
   "cell_type": "code",
   "execution_count": null,
   "metadata": {},
   "outputs": [],
   "source": [
    "import tweepy\n",
    "import pandas as pd "
   ]
  },
  {
   "source": [
    "## Autenticação "
   ],
   "cell_type": "markdown",
   "metadata": {}
  },
  {
   "cell_type": "code",
   "execution_count": null,
   "metadata": {},
   "outputs": [],
   "source": [
    "consumer_key= 'drhztkGNhICDt3cwBGXi7zzQk'\n",
    "consumer_secret= 'FDeCBlSi4qIbR9oPsf3tphQjCO6HqZfYANWceYIdJDZHsOaabi'\n",
    "access_token= '207778119-E9W1kqRXBbNeU2n8vcA0OoMn9XZpE9yvmZrD8gUx'\n",
    "access_token_secret= 'dncbYQQrh5jlJ97OmgxeaGgqOFiC7jnNpXdPngWMCRtDE'\n",
    "auth = tweepy.OAuthHandler(consumer_key, consumer_secret)\n",
    "auth.set_access_token(access_token, access_token_secret)\n",
    "api = tweepy.API(auth, wait_on_rate_limit=True, wait_on_rate_limit_notify=True)\n"
   ]
  },
  {
   "source": [
    "## Query API V1"
   ],
   "cell_type": "markdown",
   "metadata": {}
  },
  {
   "cell_type": "code",
   "execution_count": null,
   "metadata": {},
   "outputs": [],
   "source": [
    "# Define the search term and the date_since date as variables\n",
    "search_words = \"DisneyPlus\"\n",
    "date_since = \"2020-11-03\"\n",
    "lang = 'pt'\n",
    "\n",
    "tweets = tweepy.Cursor(api.search,\n",
    "              q=search_words,\n",
    "              lang=lang,\n",
    "              since=date_since).items(5000)"
   ]
  },
  {
   "source": [
    "## Resultados: Cursor to List"
   ],
   "cell_type": "markdown",
   "metadata": {}
  },
  {
   "cell_type": "code",
   "execution_count": null,
   "metadata": {},
   "outputs": [],
   "source": [
    "todos = list(tweets)"
   ]
  },
  {
   "source": [
    "## To DF and CSV File"
   ],
   "cell_type": "markdown",
   "metadata": {}
  },
  {
   "cell_type": "code",
   "execution_count": null,
   "metadata": {},
   "outputs": [],
   "source": [
    "\n",
    "def tweets_to_dataframe(lista):\n",
    "\n",
    "    columns = set()\n",
    "    \n",
    "    tweets_data = []\n",
    "    \n",
    "    for tweet in todos:\n",
    "        keys = tweet._json.keys()\n",
    "        single_data = {}\n",
    "        \n",
    "        \n",
    "        for k in keys:\n",
    "            try:\n",
    "                single_data[k] = tweet._json.get(k)\n",
    "                    \n",
    "            except Exception as e:\n",
    "                print(e)\n",
    "                single_data[k] = np.nan\n",
    "                \n",
    "            columns.add(k)\n",
    "        tweets_data.append(single_data)    \n",
    "    \n",
    "\n",
    "    header_cols = list(columns)\n",
    "    df = pd.DataFrame(tweets_data, columns=header_cols)\n",
    "    df.head()\n",
    "    \n",
    "    return df"
   ]
  },
  {
   "source": [
    "## CSV File"
   ],
   "cell_type": "markdown",
   "metadata": {}
  },
  {
   "cell_type": "code",
   "execution_count": null,
   "metadata": {},
   "outputs": [],
   "source": [
    "def create_csv(df):\n",
    "    \n",
    "    df.to_csv(r'C:\\Users\\amand\\Documents\\Jupyter Notebooks\\DisneyPlus\\Data\\tweets.csv')"
   ]
  },
  {
   "source": [],
   "cell_type": "markdown",
   "metadata": {}
  },
  {
   "source": [
    "## Cleaning DataFrame"
   ],
   "cell_type": "markdown",
   "metadata": {}
  },
  {
   "cell_type": "code",
   "execution_count": null,
   "metadata": {},
   "outputs": [],
   "source": [
    "df.head()\n"
   ]
  },
  {
   "cell_type": "code",
   "execution_count": null,
   "metadata": {},
   "outputs": [],
   "source": [
    "# Getting user data"
   ]
  }
 ],
 "metadata": {
  "kernelspec": {
   "name": "Python 3.8.0 64-bit ('disneyplus': conda)",
   "display_name": "Python 3.8.0 64-bit ('disneyplus': conda)",
   "metadata": {
    "interpreter": {
     "hash": "6e8d50762252da5a05abcadd322ec1792202d61bdb34674a0f4cb85c81b89e09"
    }
   }
  },
  "language_info": {
   "codemirror_mode": {
    "name": "ipython",
    "version": 3
   },
   "file_extension": ".py",
   "mimetype": "text/x-python",
   "name": "python",
   "nbconvert_exporter": "python",
   "pygments_lexer": "ipython3",
   "version": "3.8.0-final"
  }
 },
 "nbformat": 4,
 "nbformat_minor": 2
}
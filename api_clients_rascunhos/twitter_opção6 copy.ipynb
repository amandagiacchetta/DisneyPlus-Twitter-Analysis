{
 "cells": [
  {
   "source": [
    "## Twitter API v1.1 Client"
   ],
   "cell_type": "markdown",
   "metadata": {}
  },
  {
   "cell_type": "code",
   "execution_count": 88,
   "metadata": {},
   "outputs": [],
   "source": [
    "def import_libraries_for_twitter():\n",
    "\n",
    "    import tweepy\n",
    "    import pandas as pd \n",
    "    import numpy as np"
   ]
  },
  {
   "source": [
    "## Autentication"
   ],
   "cell_type": "markdown",
   "metadata": {}
  },
  {
   "cell_type": "code",
   "execution_count": null,
   "metadata": {},
   "outputs": [],
   "source": [
    "def get_auth_twitter():\n",
    "\n",
    "        consumer_key= 'drhztkGNhICDt3cwBGXi7zzQk'\n",
    "        consumer_secret= 'FDeCBlSi4qIbR9oPsf3tphQjCO6HqZfYANWceYIdJDZHsOaabi'\n",
    "        access_token= '207778119-E9W1kqRXBbNeU2n8vcA0OoMn9XZpE9yvmZrD8gUx'\n",
    "        access_token_secret= 'dncbYQQrh5jlJ97OmgxeaGgqOFiC7jnNpXdPngWMCRtDE'\n",
    "        auth = tweepy.OAuthHandler(consumer_key, consumer_secret)\n",
    "        auth.set_access_token(access_token, access_token_secret)\n",
    "        api = tweepy.API(auth, wait_on_rate_limit=True, wait_on_rate_limit_notify=True)\n",
    "\n",
    "        return api\n"
   ]
  },
  {
   "source": [
    "## Query API V1"
   ],
   "cell_type": "markdown",
   "metadata": {}
  },
  {
   "cell_type": "code",
   "execution_count": null,
   "metadata": {},
   "outputs": [],
   "source": [
    "def search_for_tweets(search_words, date_since, lang, items):\n",
    "\n",
    "        ##search_words = \"DisneyPlus\"\n",
    "        ##date_since = \"2020-11-03\"\n",
    "        ##lang = 'pt'\n",
    "\n",
    "        tweets = tweepy.Cursor(api.search,\n",
    "                    q=search_words,\n",
    "                    lang=lang,\n",
    "                    since=date_since).items(items)\n",
    "\n",
    "        return tweets"
   ]
  },
  {
   "source": [
    "## Resultados: Cursor to List"
   ],
   "cell_type": "markdown",
   "metadata": {}
  },
  {
   "cell_type": "code",
   "execution_count": 1,
   "metadata": {},
   "outputs": [],
   "source": [
    "def iterator_to_list(tweets):\n",
    "\n",
    "        all_tweets = list(tweets)\n",
    "        return type(all_tweets)       "
   ]
  },
  {
   "source": [
    "## To DF and CSV File"
   ],
   "cell_type": "markdown",
   "metadata": {}
  },
  {
   "cell_type": "code",
   "execution_count": null,
   "metadata": {},
   "outputs": [],
   "source": [
    "\n",
    "def tweets_to_dataframe(lista):\n",
    "\n",
    "    columns = set()\n",
    "    \n",
    "    tweets_data = []\n",
    "\n",
    "    \n",
    "    for tweet in todos:\n",
    "        keys = tweet._json.keys()\n",
    "        single_data = {}\n",
    "        \n",
    "        \n",
    "        for k in keys:\n",
    "            try:\n",
    "                single_data[k] = tweet._json.get(k)\n",
    "                    \n",
    "            except Exception as e:\n",
    "                print(e)\n",
    "                single_data[k] = np.nan\n",
    "                \n",
    "            columns.add(k)\n",
    "        tweets_data.append(single_data)    \n",
    "    \n",
    "\n",
    "    header_cols = list(columns)\n",
    "    df = pd.DataFrame(tweets_data, columns=header_cols)\n",
    "    df.head()\n",
    "    \n",
    "    return df"
   ]
  },
  {
   "source": [
    "## CSV File"
   ],
   "cell_type": "markdown",
   "metadata": {}
  },
  {
   "cell_type": "code",
   "execution_count": null,
   "metadata": {},
   "outputs": [],
   "source": [
    "def create_csv(df):\n",
    "    \n",
    "    df.to_csv(r'C:\\Users\\amand\\Documents\\Jupyter Notebooks\\DisneyPlus\\Data\\tweets.csv')"
   ]
  },
  {
   "source": [],
   "cell_type": "markdown",
   "metadata": {}
  },
  {
   "source": [
    "## Data Cleaning"
   ],
   "cell_type": "markdown",
   "metadata": {}
  },
  {
   "source": [
    "Entities column: finding mentions"
   ],
   "cell_type": "markdown",
   "metadata": {}
  },
  {
   "cell_type": "code",
   "execution_count": 161,
   "metadata": {},
   "outputs": [],
   "source": [
    "# Nome da mencao - considerando a primeira\n",
    "df['screen_name_mention_1'] = df['entities'].apply(lambda x: eval(x)['user_mentions'][0]['screen_name'] if eval(x)['user_mentions'] else np.nan)"
   ]
  },
  {
   "cell_type": "code",
   "execution_count": 162,
   "metadata": {},
   "outputs": [],
   "source": [
    "# ID no usuario mencionado, considerando a primeira\n",
    "# Usa o ID str pq o id vem uns numeros atrapalhados\n",
    "df['id_mention_1'] = df['entities'].apply(lambda x: eval(x)['user_mentions'][0]['id_str'] if eval(x)['user_mentions'] else np.nan)\n"
   ]
  },
  {
   "source": [
    "Retweeted_Status - Finding the author of the original tweet"
   ],
   "cell_type": "markdown",
   "metadata": {}
  },
  {
   "cell_type": "code",
   "execution_count": 123,
   "metadata": {},
   "outputs": [],
   "source": [
    "df['retweeted_from_screen_name'] = df['retweeted_status'].apply(lambda x: eval(x)['user']['screen_name'] if x is not np.nan else np.nan)\n"
   ]
  },
  {
   "cell_type": "code",
   "execution_count": 125,
   "metadata": {},
   "outputs": [],
   "source": [
    "df['retweeted_from_id'] = df['retweeted_status'].apply(lambda x: eval(x)['user']['id_str'] if x is not np.nan else np.nan)"
   ]
  },
  {
   "cell_type": "code",
   "execution_count": 132,
   "metadata": {},
   "outputs": [],
   "source": [
    "df['retweeted_from_is_verified'] = df['retweeted_status'].apply(lambda x: eval(x)['user']['verified'] if x is not np.nan else np.nan)"
   ]
  },
  {
   "source": [
    "User - Information about the user"
   ],
   "cell_type": "markdown",
   "metadata": {}
  },
  {
   "cell_type": "code",
   "execution_count": 144,
   "metadata": {},
   "outputs": [],
   "source": [
    "df['user_screen_name'] = df['user'].apply(lambda x: eval(x)['screen_name'] if x is not np.nan else np.nan)"
   ]
  },
  {
   "cell_type": "code",
   "execution_count": 146,
   "metadata": {},
   "outputs": [],
   "source": [
    "df['user_id'] = df['user'].apply(lambda x: eval(x)['id'] if x is not np.nan else np.nan)"
   ]
  },
  {
   "cell_type": "code",
   "execution_count": 153,
   "metadata": {},
   "outputs": [],
   "source": [
    "df['user_followers'] = df['user'].apply(lambda x: eval(x)['followers_count'] if x is not np.nan else np.nan)\n"
   ]
  },
  {
   "cell_type": "code",
   "execution_count": 155,
   "metadata": {},
   "outputs": [],
   "source": [
    "df['user_following'] = df['user'].apply(lambda x: eval(x)['friends_count'] if x is not np.nan else np.nan)\n"
   ]
  },
  {
   "cell_type": "code",
   "execution_count": 156,
   "metadata": {},
   "outputs": [],
   "source": [
    "df['user_is_verified'] = df['user'].apply(lambda x: eval(x)['verified'] if x is not np.nan else np.nan)"
   ]
  },
  {
   "source": [],
   "cell_type": "markdown",
   "metadata": {}
  },
  {
   "cell_type": "code",
   "execution_count": 160,
   "metadata": {},
   "outputs": [
    {
     "output_type": "stream",
     "name": "stdout",
     "text": [
      "<class 'pandas.core.frame.DataFrame'>\nRangeIndex: 20 entries, 0 to 19\nData columns (total 38 columns):\n #   Column                      Non-Null Count  Dtype  \n---  ------                      --------------  -----  \n 0   Unnamed: 0                  20 non-null     int64  \n 1   id_str                      20 non-null     int64  \n 2   truncated                   20 non-null     bool   \n 3   possibly_sensitive          4 non-null      object \n 4   contributors                0 non-null      float64\n 5   favorite_count              20 non-null     int64  \n 6   user                        20 non-null     object \n 7   retweet_count               20 non-null     int64  \n 8   created_at                  20 non-null     object \n 9   geo                         0 non-null      float64\n 10  metadata                    20 non-null     object \n 11  is_quote_status             20 non-null     bool   \n 12  coordinates                 0 non-null      float64\n 13  in_reply_to_status_id       11 non-null     float64\n 14  in_reply_to_screen_name     11 non-null     object \n 15  source                      20 non-null     object \n 16  place                       0 non-null      float64\n 17  retweeted_status            5 non-null      object \n 18  retweeted                   20 non-null     bool   \n 19  extended_entities           1 non-null      object \n 20  favorited                   20 non-null     bool   \n 21  in_reply_to_user_id_str     11 non-null     float64\n 22  lang                        20 non-null     object \n 23  in_reply_to_user_id         11 non-null     float64\n 24  text                        20 non-null     object \n 25  id                          20 non-null     int64  \n 26  in_reply_to_status_id_str   11 non-null     float64\n 27  entities                    20 non-null     object \n 28  screen_name_mentions_1      16 non-null     object \n 29  id_mentions_1               16 non-null     object \n 30  retweeted_from_screen_name  5 non-null      object \n 31  retweeted_from_id           5 non-null      object \n 32  retweeted_from_is_verified  5 non-null      object \n 33  user_screen_name            20 non-null     object \n 34  user_id                     20 non-null     int64  \n 35  user_followers              20 non-null     int64  \n 36  user_following              20 non-null     int64  \n 37  user_is_verified            20 non-null     bool   \ndtypes: bool(5), float64(8), int64(8), object(17)\nmemory usage: 5.4+ KB\n"
     ]
    }
   ],
   "source": [
    "df.info()"
   ]
  }
 ],
 "metadata": {
  "kernelspec": {
   "name": "Python 3.8.0 64-bit ('disneyplus': conda)",
   "display_name": "Python 3.8.0 64-bit ('disneyplus': conda)",
   "metadata": {
    "interpreter": {
     "hash": "6e8d50762252da5a05abcadd322ec1792202d61bdb34674a0f4cb85c81b89e09"
    }
   }
  },
  "language_info": {
   "codemirror_mode": {
    "name": "ipython",
    "version": 3
   },
   "file_extension": ".py",
   "mimetype": "text/x-python",
   "name": "python",
   "nbconvert_exporter": "python",
   "pygments_lexer": "ipython3",
   "version": "3.8.0-final"
  }
 },
 "nbformat": 4,
 "nbformat_minor": 2
}
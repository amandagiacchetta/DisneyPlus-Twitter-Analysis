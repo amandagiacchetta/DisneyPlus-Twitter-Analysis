{
 "cells": [
  {
   "cell_type": "code",
   "execution_count": 1,
   "metadata": {},
   "outputs": [],
   "source": [
    "import tweepy\n",
    "import pandas as pd "
   ]
  },
  {
   "source": [
    "## Autenticação "
   ],
   "cell_type": "markdown",
   "metadata": {}
  },
  {
   "cell_type": "code",
   "execution_count": 5,
   "metadata": {},
   "outputs": [],
   "source": [
    "consumer_key= 'drhztkGNhICDt3cwBGXi7zzQk'\n",
    "consumer_secret= 'FDeCBlSi4qIbR9oPsf3tphQjCO6HqZfYANWceYIdJDZHsOaabi'\n",
    "access_token= '207778119-E9W1kqRXBbNeU2n8vcA0OoMn9XZpE9yvmZrD8gUx'\n",
    "access_token_secret= 'dncbYQQrh5jlJ97OmgxeaGgqOFiC7jnNpXdPngWMCRtDE'\n",
    "auth = tweepy.OAuthHandler(consumer_key, consumer_secret)\n",
    "auth.set_access_token(access_token, access_token_secret)\n",
    "api = tweepy.API(auth, wait_on_rate_limit=True, wait_on_rate_limit_notify=True)\n"
   ]
  },
  {
   "source": [
    "## Query API V1"
   ],
   "cell_type": "markdown",
   "metadata": {}
  },
  {
   "cell_type": "code",
   "execution_count": 6,
   "metadata": {},
   "outputs": [],
   "source": [
    "# Define the search term and the date_since date as variables\n",
    "search_words = \"DisneyPlus\"\n",
    "date_since = \"2020-11-03\"\n",
    "\n",
    "tweets = tweepy.Cursor(api.search,\n",
    "              q=search_words,\n",
    "              lang=\"pt\",\n",
    "              since=date_since, count=20)"
   ]
  },
  {
   "source": [
    "## Resultados: Cursor to List"
   ],
   "cell_type": "markdown",
   "metadata": {}
  },
  {
   "cell_type": "code",
   "execution_count": 7,
   "metadata": {},
   "outputs": [],
   "source": [
    "todos = list(tweets.items(20))"
   ]
  },
  {
   "source": [
    "## Extract DataFrame original"
   ],
   "cell_type": "markdown",
   "metadata": {}
  },
  {
   "cell_type": "code",
   "execution_count": 2,
   "metadata": {},
   "outputs": [],
   "source": [
    "def extract_timeline_as_df(timeline_list):\n",
    "    columns = set()\n",
    "    allowed_types = [str, int]\n",
    "    tweets_data = []\n",
    "    for status in timeline_list:\n",
    "        status_dict = dict(vars(status))\n",
    "        keys = status_dict.keys()\n",
    "        single_tweet_data = {\"user\": status.user.screen_name, \"author\": status.author.screen_name}\n",
    "        for k in keys:\n",
    "            try:\n",
    "                v_type = type(status_dict[k])\n",
    "            except:\n",
    "                v_type = None\n",
    "            if v_type != None:\n",
    "                if v_type in allowed_types:\n",
    "                    single_tweet_data[k] = status_dict[k]\n",
    "                    columns.add(k)\n",
    "        tweets_data.append(single_tweet_data)\n",
    "\n",
    "\n",
    "    header_cols = list(columns)\n",
    "    header_cols.append(\"user\")\n",
    "    header_cols.append('author')\n",
    "    df = pd.DataFrame(tweets_data, columns=header_cols)\n",
    "    return df"
   ]
  },
  {
   "source": [
    "## Extract DataFrame modificado"
   ],
   "cell_type": "markdown",
   "metadata": {}
  },
  {
   "cell_type": "code",
   "execution_count": 21,
   "metadata": {},
   "outputs": [],
   "source": [
    "def extract_tweets(tweets_originais):\n",
    "\n",
    "    # Filtra os dados que eu vou tirar\n",
    "    columns = set()\n",
    "    allowed_types = [str, int]\n",
    "\n",
    "    #vai virar uma lista de dicionários que vai ser transformada em df\n",
    "    tweets_data = []\n",
    "\n",
    "\n",
    "    for cada_tweet in tweets_originais:\n",
    "        #transforma cada_tweet em um dicionario\n",
    "        cada_tweet_dict = dict(vars(cada_tweet))\n",
    "        #Acha a lista de keys que tem em cada_tweet\n",
    "        keys = cada_tweet_dict.keys()\n",
    "        #Cria um dicionario com duas chaves que não tem na lista acima, e ja coloca o conteúdo nelas\n",
    "        single_tweet_data = {\"screen_name\": cada_tweet.user.screen_name,           \"verified\":cada_tweet.user.verified, \"followers\": cada_tweet.user.followers_count, \"following\": cada_tweet.user.friends_count, 'created_at': cada_tweet.created_at, 'mentions':cada_tweet.entities['user_mentions']}\n",
    "\n",
    "        for k in keys:\n",
    "\n",
    "            try:\n",
    "                #Define o tipo de conteúdo dentro da chave\n",
    "                v_type = type(cada_tweet_dict[k])\n",
    "\n",
    "            except:\n",
    "                # Se o tipo de conteúdo for nulo, ou seja, o trem de cima não funcionar, coloca ele como None\n",
    "                v_type = None\n",
    "\n",
    "            #Depois de definir o tipo de conteúdo para uma chave k, vamos fazer alguma coisa com ele\n",
    "            if v_type != None:\n",
    "                #Então, se o conteúdo da chave tiver dos tipos permitidos\n",
    "\n",
    "                if v_type in allowed_types:\n",
    "                    #Vamos adicionar este conteúdo no dicionário criado lá em cima\n",
    "                    single_tweet_data[k] = cada_tweet_dict[k]\n",
    "\n",
    "                    columns.add(k)\n",
    "\n",
    "        #Adiciona o dicionário final criado a uma lista            \n",
    "        tweets_data.append(single_tweet_data)\n",
    "\n",
    "    #Transforma as colunas que estavam em forma de set em lista\n",
    "    header_cols = list(columns)\n",
    "    #Adiciona o chave user, já que ele tá fora das chaves principais\n",
    "    header_cols.append(\"screen_name\")\n",
    "    header_cols.append(\"verified\")\n",
    "    header_cols.append(\"followers\")\n",
    "    header_cols.append(\"following\")\n",
    "    header_cols.append('created_at')\n",
    "    header_cols.append('mentions')\n",
    "    \n",
    "    #Cria o dataframe\n",
    "    df = pd.DataFrame(tweets_data, columns=header_cols)\n",
    "    return df"
   ]
  },
  {
   "cell_type": "code",
   "execution_count": 22,
   "metadata": {},
   "outputs": [],
   "source": [
    "df1 = extract_tweets(todos)"
   ]
  },
  {
   "cell_type": "code",
   "execution_count": 52,
   "metadata": {},
   "outputs": [
    {
     "output_type": "execute_result",
     "data": {
      "text/plain": [
       "{'hashtags': [],\n",
       " 'symbols': [],\n",
       " 'user_mentions': [{'screen_name': 'XboxGamePass',\n",
       "   'name': 'Xbox Game Pass',\n",
       "   'id': 956692683661107201,\n",
       "   'id_str': '956692683661107201',\n",
       "   'indices': [0, 13]},\n",
       "  {'screen_name': 'disneyplus',\n",
       "   'name': 'Disney+',\n",
       "   'id': 985916593065476096,\n",
       "   'id_str': '985916593065476096',\n",
       "   'indices': [14, 25]}],\n",
       " 'urls': []}"
      ]
     },
     "metadata": {},
     "execution_count": 52
    }
   ],
   "source": [
    "todos[1].entities"
   ]
  },
  {
   "cell_type": "code",
   "execution_count": 69,
   "metadata": {},
   "outputs": [
    {
     "output_type": "execute_result",
     "data": {
      "text/plain": [
       "'disneygobr'"
      ]
     },
     "metadata": {},
     "execution_count": 69
    }
   ],
   "source": [
    "todos[0].entities['user_mentions'][0]['screen_name']"
   ]
  },
  {
   "cell_type": "code",
   "execution_count": 74,
   "metadata": {},
   "outputs": [
    {
     "output_type": "execute_result",
     "data": {
      "text/plain": [
       "[]"
      ]
     },
     "metadata": {},
     "execution_count": 74
    }
   ],
   "source": [
    "todos[3].entities['user_mentions']"
   ]
  }
 ],
 "metadata": {
  "kernelspec": {
   "name": "Python 3.8.0 64-bit ('disneyplus': conda)",
   "display_name": "Python 3.8.0 64-bit ('disneyplus': conda)",
   "metadata": {
    "interpreter": {
     "hash": "6e8d50762252da5a05abcadd322ec1792202d61bdb34674a0f4cb85c81b89e09"
    }
   }
  },
  "language_info": {
   "codemirror_mode": {
    "name": "ipython",
    "version": 3
   },
   "file_extension": ".py",
   "mimetype": "text/x-python",
   "name": "python",
   "nbconvert_exporter": "python",
   "pygments_lexer": "ipython3",
   "version": "3.8.0-final"
  }
 },
 "nbformat": 4,
 "nbformat_minor": 2
}
{
 "cells": [
  {
   "cell_type": "code",
   "execution_count": 2,
   "metadata": {},
   "outputs": [],
   "source": [
    "import tweepy\n",
    "import pandas as pd "
   ]
  },
  {
   "source": [
    "## Autenticação "
   ],
   "cell_type": "markdown",
   "metadata": {}
  },
  {
   "cell_type": "code",
   "execution_count": 5,
   "metadata": {},
   "outputs": [],
   "source": [
    "consumer_key= 'drhztkGNhICDt3cwBGXi7zzQk'\n",
    "consumer_secret= 'FDeCBlSi4qIbR9oPsf3tphQjCO6HqZfYANWceYIdJDZHsOaabi'\n",
    "access_token= '207778119-E9W1kqRXBbNeU2n8vcA0OoMn9XZpE9yvmZrD8gUx'\n",
    "access_token_secret= 'dncbYQQrh5jlJ97OmgxeaGgqOFiC7jnNpXdPngWMCRtDE'\n",
    "auth = tweepy.OAuthHandler(consumer_key, consumer_secret)\n",
    "auth.set_access_token(access_token, access_token_secret)\n",
    "api = tweepy.API(auth, wait_on_rate_limit=True, wait_on_rate_limit_notify=True)\n"
   ]
  },
  {
   "source": [
    "## Query API V1"
   ],
   "cell_type": "markdown",
   "metadata": {}
  },
  {
   "cell_type": "code",
   "execution_count": 20,
   "metadata": {},
   "outputs": [],
   "source": [
    "# Define the search term and the date_since date as variables\n",
    "search_words = \"DisneyPlus\"\n",
    "date_since = \"2020-11-03\"\n",
    "\n",
    "tweets = tweepy.Cursor(api.search,\n",
    "              q=search_words,\n",
    "              lang=\"pt\",\n",
    "              since=date_since, count=20)"
   ]
  },
  {
   "source": [
    "## Resultados: Cursor to List"
   ],
   "cell_type": "markdown",
   "metadata": {}
  },
  {
   "cell_type": "code",
   "execution_count": 21,
   "metadata": {},
   "outputs": [],
   "source": [
    "todos = list(tweets.items(20))"
   ]
  },
  {
   "source": [
    "## Extract DataFrame original"
   ],
   "cell_type": "markdown",
   "metadata": {}
  },
  {
   "cell_type": "code",
   "execution_count": 6,
   "metadata": {},
   "outputs": [],
   "source": [
    "def extract_timeline_as_df(timeline_list):\n",
    "    columns = set()\n",
    "    allowed_types = [str, int]\n",
    "    tweets_data = []\n",
    "    for status in timeline_list:\n",
    "        status_dict = dict(vars(status))\n",
    "        keys = status_dict.keys()\n",
    "        single_tweet_data = {\"user\": status.user.screen_name, \"author\": status.author.screen_name}\n",
    "        for k in keys:\n",
    "            try:\n",
    "                v_type = type(status_dict[k])\n",
    "            except:\n",
    "                v_type = None\n",
    "            if v_type != None:\n",
    "                if v_type in allowed_types:\n",
    "                    single_tweet_data[k] = status_dict[k]\n",
    "                    columns.add(k)\n",
    "        tweets_data.append(single_tweet_data)\n",
    "\n",
    "\n",
    "    header_cols = list(columns)\n",
    "    header_cols.append(\"user\")\n",
    "    header_cols.append('author')\n",
    "    df = pd.DataFrame(tweets_data, columns=header_cols)\n",
    "    return df"
   ]
  },
  {
   "source": [
    "## Extract DataFrame modificado"
   ],
   "cell_type": "markdown",
   "metadata": {}
  },
  {
   "cell_type": "code",
   "execution_count": 7,
   "metadata": {},
   "outputs": [],
   "source": [
    "def extract_tweets(tweets_originais):\n",
    "\n",
    "    # Filtra os dados que eu vou tirar\n",
    "    columns = set()\n",
    "    allowed_types = [str, int]\n",
    "\n",
    "    #vai virar uma lista de dicionários que vai ser transformada em df\n",
    "    tweets_data = []\n",
    "\n",
    "\n",
    "    for cada_tweet in tweets_originais:\n",
    "        #transforma cada_tweet em um dicionario\n",
    "        cada_tweet_dict = dict(vars(cada_tweet))\n",
    "        #Acha a lista de keys que tem em cada_tweet\n",
    "        keys = cada_tweet_dict.keys()\n",
    "        #Cria um dicionario com duas chaves que não tem na lista acima, e ja coloca o conteúdo nelas\n",
    "        single_tweet_data = {\"user\": cada_tweet.user.screen_name, \"verified\":cada_tweet.user.verified, \n",
    "                             \"followers\": cada_tweet.user.followers_count, \"following\": cada_tweet.user.friends_count }\n",
    "\n",
    "        for k in keys:\n",
    "\n",
    "            try:\n",
    "                #Define o tipo de conteúdo dentro da chave\n",
    "                v_type = type(cada_tweet_dict[k])\n",
    "\n",
    "            except:\n",
    "                # Se o tipo de conteúdo for nulo, ou seja, o trem de cima não funcionar, coloca ele como None\n",
    "                v_type = None\n",
    "\n",
    "            #Depois de definir o tipo de conteúdo para uma chave k, vamos fazer alguma coisa com ele\n",
    "            if v_type != None:\n",
    "                #Então, se o conteúdo da chave tiver dos tipos permitidos\n",
    "\n",
    "                if v_type in allowed_types:\n",
    "                    #Vamos adicionar este conteúdo no dicionário criado lá em cima\n",
    "                    single_tweet_data[k] = cada_tweet_dict[k]\n",
    "\n",
    "                    columns.add(k)\n",
    "\n",
    "        #Adiciona o dicionário final criado a uma lista            \n",
    "        tweets_data.append(single_tweet_data)\n",
    "\n",
    "    #Transforma as colunas que estavam em forma de set em lista\n",
    "    header_cols = list(columns)\n",
    "    #Adiciona o chave user, já que ele tá fora das chaves principais\n",
    "    header_cols.append(\"user\")\n",
    "    header_cols.append(\"verified\")\n",
    "    header_cols.append(\"followers\")\n",
    "    header_cols.append(\"following\")\n",
    "    \n",
    "    #Cria o dataframe\n",
    "    df = pd.DataFrame(tweets_data, columns=header_cols)\n",
    "    return df"
   ]
  },
  {
   "cell_type": "code",
   "execution_count": 22,
   "metadata": {},
   "outputs": [],
   "source": [
    "df1 = extract_tweets(todos)"
   ]
  },
  {
   "cell_type": "code",
   "execution_count": 23,
   "metadata": {},
   "outputs": [
    {
     "output_type": "execute_result",
     "data": {
      "text/plain": [
       "    in_reply_to_user_id lang  retweet_count               id_str  \\\n",
       "0          1.245267e+18   pt              0  1325865475117617153   \n",
       "1                   NaN   pt              1  1325864675335151617   \n",
       "2                   NaN   pt              2  1325864664874541061   \n",
       "3                   NaN   pt              1  1325864628082053125   \n",
       "4                   NaN   pt              4  1325864516316487683   \n",
       "5          9.566927e+17   pt              0  1325863867596103680   \n",
       "6                   NaN   pt              0  1325863697319858177   \n",
       "7                   NaN   pt              0  1325863117759410273   \n",
       "8          9.909557e+17   pt              0  1325862774967250945   \n",
       "9          1.260763e+18   pt              0  1325860290408407041   \n",
       "10         2.089752e+07   pt              0  1325860176767934465   \n",
       "11         5.833813e+08   pt              0  1325859074139971586   \n",
       "12                  NaN   pt              0  1325858464028102657   \n",
       "13                  NaN   pt             56  1325856440314191872   \n",
       "14                  NaN   pt              4  1325855107691532288   \n",
       "15                  NaN   pt              0  1325854491627937792   \n",
       "16         4.378908e+07   pt              0  1325853719100010496   \n",
       "17                  NaN   pt              1  1325853650581905410   \n",
       "18                  NaN   pt              0  1325853265834151939   \n",
       "19                  NaN   pt              1  1325853190533898247   \n",
       "\n",
       "                     id in_reply_to_status_id_str               source  \\\n",
       "0   1325865475117617153       1325850919142092801      Twitter Web App   \n",
       "1   1325864675335151617                       NaN   Twitter for iPhone   \n",
       "2   1325864664874541061                       NaN  Twitter for Android   \n",
       "3   1325864628082053125                       NaN   Twitter for iPhone   \n",
       "4   1325864516316487683                       NaN  Twitter for Android   \n",
       "5   1325863867596103680       1325849610737209344   Twitter for iPhone   \n",
       "6   1325863697319858177                       NaN      Twitter Web App   \n",
       "7   1325863117759410273                       NaN  Twitter for Android   \n",
       "8   1325862774967250945       1325862587020562433      Twitter Web App   \n",
       "9   1325860290408407041       1325809804150009858      Twitter Web App   \n",
       "10  1325860176767934465       1325853719100010496  Twitter for Android   \n",
       "11  1325859074139971586       1325855882937294848  Twitter for Android   \n",
       "12  1325858464028102657                       NaN   Twitter for iPhone   \n",
       "13  1325856440314191872                       NaN  Twitter for Android   \n",
       "14  1325855107691532288                       NaN   Twitter for iPhone   \n",
       "15  1325854491627937792                       NaN      Twitter Web App   \n",
       "16  1325853719100010496       1325853216295317507  Twitter for Android   \n",
       "17  1325853650581905410                       NaN  Twitter for Android   \n",
       "18  1325853265834151939                       NaN   Twitter for iPhone   \n",
       "19  1325853190533898247                       NaN      Twitter Web App   \n",
       "\n",
       "   in_reply_to_user_id_str  in_reply_to_status_id  \\\n",
       "0      1245266633356173312           1.325851e+18   \n",
       "1                      NaN                    NaN   \n",
       "2                      NaN                    NaN   \n",
       "3                      NaN                    NaN   \n",
       "4                      NaN                    NaN   \n",
       "5       956692683661107201           1.325850e+18   \n",
       "6                      NaN                    NaN   \n",
       "7                      NaN                    NaN   \n",
       "8       990955694970073088           1.325863e+18   \n",
       "9      1260763040703811584           1.325810e+18   \n",
       "10                20897525           1.325854e+18   \n",
       "11               583381293           1.325856e+18   \n",
       "12                     NaN                    NaN   \n",
       "13                     NaN                    NaN   \n",
       "14                     NaN                    NaN   \n",
       "15                     NaN                    NaN   \n",
       "16                43789079           1.325853e+18   \n",
       "17                     NaN                    NaN   \n",
       "18                     NaN                    NaN   \n",
       "19                     NaN                    NaN   \n",
       "\n",
       "                             source_url  quoted_status_id  favorite_count  \\\n",
       "0            https://mobile.twitter.com               NaN               0   \n",
       "1    http://twitter.com/download/iphone               NaN               0   \n",
       "2   http://twitter.com/download/android               NaN               0   \n",
       "3    http://twitter.com/download/iphone               NaN               3   \n",
       "4   http://twitter.com/download/android               NaN               0   \n",
       "5    http://twitter.com/download/iphone               NaN               0   \n",
       "6            https://mobile.twitter.com               NaN               0   \n",
       "7   http://twitter.com/download/android               NaN               0   \n",
       "8            https://mobile.twitter.com               NaN               0   \n",
       "9            https://mobile.twitter.com               NaN               0   \n",
       "10  http://twitter.com/download/android               NaN               0   \n",
       "11  http://twitter.com/download/android               NaN               0   \n",
       "12   http://twitter.com/download/iphone               NaN               0   \n",
       "13  http://twitter.com/download/android               NaN               0   \n",
       "14   http://twitter.com/download/iphone               NaN               0   \n",
       "15           https://mobile.twitter.com      1.325854e+18               1   \n",
       "16  http://twitter.com/download/android               NaN               0   \n",
       "17  http://twitter.com/download/android               NaN               0   \n",
       "18   http://twitter.com/download/iphone      1.325831e+18               0   \n",
       "19           https://mobile.twitter.com               NaN               0   \n",
       "\n",
       "                                                 text quoted_status_id_str  \\\n",
       "0   @xbox_pt @disneyplus continuo a aguardar expli...                  NaN   \n",
       "1   RT @fcotinispt: 📣 Confirmado: A série do Disne...                  NaN   \n",
       "2   RT @DisneyPlusBR: O #DisneyPlus está chegando!...                  NaN   \n",
       "3   📣 Confirmado: A série do Disney+ onde a Tini v...                  NaN   \n",
       "4   RT @xbox_pt: Perks\\nPerk\\nPer\\nPe\\nP\\nPl\\nPlu\\...                  NaN   \n",
       "5   @XboxGamePass @Xbox @disneyplus Uhhh vou ter t...                  NaN   \n",
       "6   Eu nem acredito que faltam apenas 7 dias, 8 ho...                  NaN   \n",
       "7   queria uma conta no disneyplus pra assistir es...                  NaN   \n",
       "8   @jon_flp @XboxGamePass @disneyplus É trial ou ...                  NaN   \n",
       "9   @ElDatoDisney @disneyplusla @disneyplus @Disne...                  NaN   \n",
       "10  @bruhrj_ @XboxGamePass @disneyplus Continuo ac...                  NaN   \n",
       "11  As visões da Raven e Hannah Montana que me esp...                  NaN   \n",
       "12  Meu DNA Disney+ é a combinação perfeita de Pin...                  NaN   \n",
       "13  RT @DisneyPlusBR: Assista todas as suas histór...                  NaN   \n",
       "14  RT @xbox_pt: Perks\\nPerk\\nPer\\nPe\\nP\\nPl\\nPlu\\...                  NaN   \n",
       "15  Não tem #DisneyPlus pro Brasil (por enquanto.....  1325853558323834880   \n",
       "16  @Wakashimazu @XboxGamePass @disneyplus \"Esta o...                  NaN   \n",
       "17  RT @disneygobr: Confira o Pôster Oficial de ‘E...                  NaN   \n",
       "18             Disney, te amo https://t.co/9fDim9S3Rx  1325830510325633026   \n",
       "19  RT @hospicionerd: 🛑RUMOR \\n\\nWandavison pode t...                  NaN   \n",
       "\n",
       "   in_reply_to_screen_name             user  verified  followers  following  \n",
       "0                  xbox_pt     spirits20091     False         11        413  \n",
       "1                      NaN  Tinistaforeveer     False        596        427  \n",
       "2                      NaN      rgrayguedes     False       2242       2111  \n",
       "3                      NaN       fcotinispt     False        179        159  \n",
       "4                      NaN        BPrince95     False        193        131  \n",
       "5             XboxGamePass         gabstwts     False       2296       1659  \n",
       "6                      NaN          PWRLima     False         28        113  \n",
       "7                      NaN         muriaxdu     False         33         86  \n",
       "8                _GOD_clan        _GOD_clan     False        355        709  \n",
       "9             ElDatoDisney   Franco1Francon     False         18        109  \n",
       "10                 bruhrj_      Wakashimazu     False        470        712  \n",
       "11            andersonfq10     andersonfq10     False        571       2444  \n",
       "12                     NaN        flaviapan     False         77         74  \n",
       "13                     NaN        flavio_rs     False         82       1006  \n",
       "14                     NaN     futurebehind     False       1860       1222  \n",
       "15                     NaN       AdamKronus     False        196        227  \n",
       "16             Wakashimazu          bruhrj_     False        303        181  \n",
       "17                     NaN       Anna_Liar_     False        280        909  \n",
       "18                     NaN      melina_cian     False        101        252  \n",
       "19                     NaN      cassmarvete     False         62         91  "
      ],
      "text/html": "<div>\n<style scoped>\n    .dataframe tbody tr th:only-of-type {\n        vertical-align: middle;\n    }\n\n    .dataframe tbody tr th {\n        vertical-align: top;\n    }\n\n    .dataframe thead th {\n        text-align: right;\n    }\n</style>\n<table border=\"1\" class=\"dataframe\">\n  <thead>\n    <tr style=\"text-align: right;\">\n      <th></th>\n      <th>in_reply_to_user_id</th>\n      <th>lang</th>\n      <th>retweet_count</th>\n      <th>id_str</th>\n      <th>id</th>\n      <th>in_reply_to_status_id_str</th>\n      <th>source</th>\n      <th>in_reply_to_user_id_str</th>\n      <th>in_reply_to_status_id</th>\n      <th>source_url</th>\n      <th>quoted_status_id</th>\n      <th>favorite_count</th>\n      <th>text</th>\n      <th>quoted_status_id_str</th>\n      <th>in_reply_to_screen_name</th>\n      <th>user</th>\n      <th>verified</th>\n      <th>followers</th>\n      <th>following</th>\n    </tr>\n  </thead>\n  <tbody>\n    <tr>\n      <th>0</th>\n      <td>1.245267e+18</td>\n      <td>pt</td>\n      <td>0</td>\n      <td>1325865475117617153</td>\n      <td>1325865475117617153</td>\n      <td>1325850919142092801</td>\n      <td>Twitter Web App</td>\n      <td>1245266633356173312</td>\n      <td>1.325851e+18</td>\n      <td>https://mobile.twitter.com</td>\n      <td>NaN</td>\n      <td>0</td>\n      <td>@xbox_pt @disneyplus continuo a aguardar expli...</td>\n      <td>NaN</td>\n      <td>xbox_pt</td>\n      <td>spirits20091</td>\n      <td>False</td>\n      <td>11</td>\n      <td>413</td>\n    </tr>\n    <tr>\n      <th>1</th>\n      <td>NaN</td>\n      <td>pt</td>\n      <td>1</td>\n      <td>1325864675335151617</td>\n      <td>1325864675335151617</td>\n      <td>NaN</td>\n      <td>Twitter for iPhone</td>\n      <td>NaN</td>\n      <td>NaN</td>\n      <td>http://twitter.com/download/iphone</td>\n      <td>NaN</td>\n      <td>0</td>\n      <td>RT @fcotinispt: 📣 Confirmado: A série do Disne...</td>\n      <td>NaN</td>\n      <td>NaN</td>\n      <td>Tinistaforeveer</td>\n      <td>False</td>\n      <td>596</td>\n      <td>427</td>\n    </tr>\n    <tr>\n      <th>2</th>\n      <td>NaN</td>\n      <td>pt</td>\n      <td>2</td>\n      <td>1325864664874541061</td>\n      <td>1325864664874541061</td>\n      <td>NaN</td>\n      <td>Twitter for Android</td>\n      <td>NaN</td>\n      <td>NaN</td>\n      <td>http://twitter.com/download/android</td>\n      <td>NaN</td>\n      <td>0</td>\n      <td>RT @DisneyPlusBR: O #DisneyPlus está chegando!...</td>\n      <td>NaN</td>\n      <td>NaN</td>\n      <td>rgrayguedes</td>\n      <td>False</td>\n      <td>2242</td>\n      <td>2111</td>\n    </tr>\n    <tr>\n      <th>3</th>\n      <td>NaN</td>\n      <td>pt</td>\n      <td>1</td>\n      <td>1325864628082053125</td>\n      <td>1325864628082053125</td>\n      <td>NaN</td>\n      <td>Twitter for iPhone</td>\n      <td>NaN</td>\n      <td>NaN</td>\n      <td>http://twitter.com/download/iphone</td>\n      <td>NaN</td>\n      <td>3</td>\n      <td>📣 Confirmado: A série do Disney+ onde a Tini v...</td>\n      <td>NaN</td>\n      <td>NaN</td>\n      <td>fcotinispt</td>\n      <td>False</td>\n      <td>179</td>\n      <td>159</td>\n    </tr>\n    <tr>\n      <th>4</th>\n      <td>NaN</td>\n      <td>pt</td>\n      <td>4</td>\n      <td>1325864516316487683</td>\n      <td>1325864516316487683</td>\n      <td>NaN</td>\n      <td>Twitter for Android</td>\n      <td>NaN</td>\n      <td>NaN</td>\n      <td>http://twitter.com/download/android</td>\n      <td>NaN</td>\n      <td>0</td>\n      <td>RT @xbox_pt: Perks\\nPerk\\nPer\\nPe\\nP\\nPl\\nPlu\\...</td>\n      <td>NaN</td>\n      <td>NaN</td>\n      <td>BPrince95</td>\n      <td>False</td>\n      <td>193</td>\n      <td>131</td>\n    </tr>\n    <tr>\n      <th>5</th>\n      <td>9.566927e+17</td>\n      <td>pt</td>\n      <td>0</td>\n      <td>1325863867596103680</td>\n      <td>1325863867596103680</td>\n      <td>1325849610737209344</td>\n      <td>Twitter for iPhone</td>\n      <td>956692683661107201</td>\n      <td>1.325850e+18</td>\n      <td>http://twitter.com/download/iphone</td>\n      <td>NaN</td>\n      <td>0</td>\n      <td>@XboxGamePass @Xbox @disneyplus Uhhh vou ter t...</td>\n      <td>NaN</td>\n      <td>XboxGamePass</td>\n      <td>gabstwts</td>\n      <td>False</td>\n      <td>2296</td>\n      <td>1659</td>\n    </tr>\n    <tr>\n      <th>6</th>\n      <td>NaN</td>\n      <td>pt</td>\n      <td>0</td>\n      <td>1325863697319858177</td>\n      <td>1325863697319858177</td>\n      <td>NaN</td>\n      <td>Twitter Web App</td>\n      <td>NaN</td>\n      <td>NaN</td>\n      <td>https://mobile.twitter.com</td>\n      <td>NaN</td>\n      <td>0</td>\n      <td>Eu nem acredito que faltam apenas 7 dias, 8 ho...</td>\n      <td>NaN</td>\n      <td>NaN</td>\n      <td>PWRLima</td>\n      <td>False</td>\n      <td>28</td>\n      <td>113</td>\n    </tr>\n    <tr>\n      <th>7</th>\n      <td>NaN</td>\n      <td>pt</td>\n      <td>0</td>\n      <td>1325863117759410273</td>\n      <td>1325863117759410273</td>\n      <td>NaN</td>\n      <td>Twitter for Android</td>\n      <td>NaN</td>\n      <td>NaN</td>\n      <td>http://twitter.com/download/android</td>\n      <td>NaN</td>\n      <td>0</td>\n      <td>queria uma conta no disneyplus pra assistir es...</td>\n      <td>NaN</td>\n      <td>NaN</td>\n      <td>muriaxdu</td>\n      <td>False</td>\n      <td>33</td>\n      <td>86</td>\n    </tr>\n    <tr>\n      <th>8</th>\n      <td>9.909557e+17</td>\n      <td>pt</td>\n      <td>0</td>\n      <td>1325862774967250945</td>\n      <td>1325862774967250945</td>\n      <td>1325862587020562433</td>\n      <td>Twitter Web App</td>\n      <td>990955694970073088</td>\n      <td>1.325863e+18</td>\n      <td>https://mobile.twitter.com</td>\n      <td>NaN</td>\n      <td>0</td>\n      <td>@jon_flp @XboxGamePass @disneyplus É trial ou ...</td>\n      <td>NaN</td>\n      <td>_GOD_clan</td>\n      <td>_GOD_clan</td>\n      <td>False</td>\n      <td>355</td>\n      <td>709</td>\n    </tr>\n    <tr>\n      <th>9</th>\n      <td>1.260763e+18</td>\n      <td>pt</td>\n      <td>0</td>\n      <td>1325860290408407041</td>\n      <td>1325860290408407041</td>\n      <td>1325809804150009858</td>\n      <td>Twitter Web App</td>\n      <td>1260763040703811584</td>\n      <td>1.325810e+18</td>\n      <td>https://mobile.twitter.com</td>\n      <td>NaN</td>\n      <td>0</td>\n      <td>@ElDatoDisney @disneyplusla @disneyplus @Disne...</td>\n      <td>NaN</td>\n      <td>ElDatoDisney</td>\n      <td>Franco1Francon</td>\n      <td>False</td>\n      <td>18</td>\n      <td>109</td>\n    </tr>\n    <tr>\n      <th>10</th>\n      <td>2.089752e+07</td>\n      <td>pt</td>\n      <td>0</td>\n      <td>1325860176767934465</td>\n      <td>1325860176767934465</td>\n      <td>1325853719100010496</td>\n      <td>Twitter for Android</td>\n      <td>20897525</td>\n      <td>1.325854e+18</td>\n      <td>http://twitter.com/download/android</td>\n      <td>NaN</td>\n      <td>0</td>\n      <td>@bruhrj_ @XboxGamePass @disneyplus Continuo ac...</td>\n      <td>NaN</td>\n      <td>bruhrj_</td>\n      <td>Wakashimazu</td>\n      <td>False</td>\n      <td>470</td>\n      <td>712</td>\n    </tr>\n    <tr>\n      <th>11</th>\n      <td>5.833813e+08</td>\n      <td>pt</td>\n      <td>0</td>\n      <td>1325859074139971586</td>\n      <td>1325859074139971586</td>\n      <td>1325855882937294848</td>\n      <td>Twitter for Android</td>\n      <td>583381293</td>\n      <td>1.325856e+18</td>\n      <td>http://twitter.com/download/android</td>\n      <td>NaN</td>\n      <td>0</td>\n      <td>As visões da Raven e Hannah Montana que me esp...</td>\n      <td>NaN</td>\n      <td>andersonfq10</td>\n      <td>andersonfq10</td>\n      <td>False</td>\n      <td>571</td>\n      <td>2444</td>\n    </tr>\n    <tr>\n      <th>12</th>\n      <td>NaN</td>\n      <td>pt</td>\n      <td>0</td>\n      <td>1325858464028102657</td>\n      <td>1325858464028102657</td>\n      <td>NaN</td>\n      <td>Twitter for iPhone</td>\n      <td>NaN</td>\n      <td>NaN</td>\n      <td>http://twitter.com/download/iphone</td>\n      <td>NaN</td>\n      <td>0</td>\n      <td>Meu DNA Disney+ é a combinação perfeita de Pin...</td>\n      <td>NaN</td>\n      <td>NaN</td>\n      <td>flaviapan</td>\n      <td>False</td>\n      <td>77</td>\n      <td>74</td>\n    </tr>\n    <tr>\n      <th>13</th>\n      <td>NaN</td>\n      <td>pt</td>\n      <td>56</td>\n      <td>1325856440314191872</td>\n      <td>1325856440314191872</td>\n      <td>NaN</td>\n      <td>Twitter for Android</td>\n      <td>NaN</td>\n      <td>NaN</td>\n      <td>http://twitter.com/download/android</td>\n      <td>NaN</td>\n      <td>0</td>\n      <td>RT @DisneyPlusBR: Assista todas as suas histór...</td>\n      <td>NaN</td>\n      <td>NaN</td>\n      <td>flavio_rs</td>\n      <td>False</td>\n      <td>82</td>\n      <td>1006</td>\n    </tr>\n    <tr>\n      <th>14</th>\n      <td>NaN</td>\n      <td>pt</td>\n      <td>4</td>\n      <td>1325855107691532288</td>\n      <td>1325855107691532288</td>\n      <td>NaN</td>\n      <td>Twitter for iPhone</td>\n      <td>NaN</td>\n      <td>NaN</td>\n      <td>http://twitter.com/download/iphone</td>\n      <td>NaN</td>\n      <td>0</td>\n      <td>RT @xbox_pt: Perks\\nPerk\\nPer\\nPe\\nP\\nPl\\nPlu\\...</td>\n      <td>NaN</td>\n      <td>NaN</td>\n      <td>futurebehind</td>\n      <td>False</td>\n      <td>1860</td>\n      <td>1222</td>\n    </tr>\n    <tr>\n      <th>15</th>\n      <td>NaN</td>\n      <td>pt</td>\n      <td>0</td>\n      <td>1325854491627937792</td>\n      <td>1325854491627937792</td>\n      <td>NaN</td>\n      <td>Twitter Web App</td>\n      <td>NaN</td>\n      <td>NaN</td>\n      <td>https://mobile.twitter.com</td>\n      <td>1.325854e+18</td>\n      <td>1</td>\n      <td>Não tem #DisneyPlus pro Brasil (por enquanto.....</td>\n      <td>1325853558323834880</td>\n      <td>NaN</td>\n      <td>AdamKronus</td>\n      <td>False</td>\n      <td>196</td>\n      <td>227</td>\n    </tr>\n    <tr>\n      <th>16</th>\n      <td>4.378908e+07</td>\n      <td>pt</td>\n      <td>0</td>\n      <td>1325853719100010496</td>\n      <td>1325853719100010496</td>\n      <td>1325853216295317507</td>\n      <td>Twitter for Android</td>\n      <td>43789079</td>\n      <td>1.325853e+18</td>\n      <td>http://twitter.com/download/android</td>\n      <td>NaN</td>\n      <td>0</td>\n      <td>@Wakashimazu @XboxGamePass @disneyplus \"Esta o...</td>\n      <td>NaN</td>\n      <td>Wakashimazu</td>\n      <td>bruhrj_</td>\n      <td>False</td>\n      <td>303</td>\n      <td>181</td>\n    </tr>\n    <tr>\n      <th>17</th>\n      <td>NaN</td>\n      <td>pt</td>\n      <td>1</td>\n      <td>1325853650581905410</td>\n      <td>1325853650581905410</td>\n      <td>NaN</td>\n      <td>Twitter for Android</td>\n      <td>NaN</td>\n      <td>NaN</td>\n      <td>http://twitter.com/download/android</td>\n      <td>NaN</td>\n      <td>0</td>\n      <td>RT @disneygobr: Confira o Pôster Oficial de ‘E...</td>\n      <td>NaN</td>\n      <td>NaN</td>\n      <td>Anna_Liar_</td>\n      <td>False</td>\n      <td>280</td>\n      <td>909</td>\n    </tr>\n    <tr>\n      <th>18</th>\n      <td>NaN</td>\n      <td>pt</td>\n      <td>0</td>\n      <td>1325853265834151939</td>\n      <td>1325853265834151939</td>\n      <td>NaN</td>\n      <td>Twitter for iPhone</td>\n      <td>NaN</td>\n      <td>NaN</td>\n      <td>http://twitter.com/download/iphone</td>\n      <td>1.325831e+18</td>\n      <td>0</td>\n      <td>Disney, te amo https://t.co/9fDim9S3Rx</td>\n      <td>1325830510325633026</td>\n      <td>NaN</td>\n      <td>melina_cian</td>\n      <td>False</td>\n      <td>101</td>\n      <td>252</td>\n    </tr>\n    <tr>\n      <th>19</th>\n      <td>NaN</td>\n      <td>pt</td>\n      <td>1</td>\n      <td>1325853190533898247</td>\n      <td>1325853190533898247</td>\n      <td>NaN</td>\n      <td>Twitter Web App</td>\n      <td>NaN</td>\n      <td>NaN</td>\n      <td>https://mobile.twitter.com</td>\n      <td>NaN</td>\n      <td>0</td>\n      <td>RT @hospicionerd: 🛑RUMOR \\n\\nWandavison pode t...</td>\n      <td>NaN</td>\n      <td>NaN</td>\n      <td>cassmarvete</td>\n      <td>False</td>\n      <td>62</td>\n      <td>91</td>\n    </tr>\n  </tbody>\n</table>\n</div>"
     },
     "metadata": {},
     "execution_count": 23
    }
   ],
   "source": [
    "df1"
   ]
  },
  {
   "cell_type": "code",
   "execution_count": 24,
   "metadata": {},
   "outputs": [
    {
     "output_type": "execute_result",
     "data": {
      "text/plain": [
       "0     @xbox_pt @disneyplus continuo a aguardar expli...\n",
       "1     RT @fcotinispt: 📣 Confirmado: A série do Disne...\n",
       "2     RT @DisneyPlusBR: O #DisneyPlus está chegando!...\n",
       "3     📣 Confirmado: A série do Disney+ onde a Tini v...\n",
       "4     RT @xbox_pt: Perks\\nPerk\\nPer\\nPe\\nP\\nPl\\nPlu\\...\n",
       "5     @XboxGamePass @Xbox @disneyplus Uhhh vou ter t...\n",
       "6     Eu nem acredito que faltam apenas 7 dias, 8 ho...\n",
       "7     queria uma conta no disneyplus pra assistir es...\n",
       "8     @jon_flp @XboxGamePass @disneyplus É trial ou ...\n",
       "9     @ElDatoDisney @disneyplusla @disneyplus @Disne...\n",
       "10    @bruhrj_ @XboxGamePass @disneyplus Continuo ac...\n",
       "11    As visões da Raven e Hannah Montana que me esp...\n",
       "12    Meu DNA Disney+ é a combinação perfeita de Pin...\n",
       "13    RT @DisneyPlusBR: Assista todas as suas histór...\n",
       "14    RT @xbox_pt: Perks\\nPerk\\nPer\\nPe\\nP\\nPl\\nPlu\\...\n",
       "15    Não tem #DisneyPlus pro Brasil (por enquanto.....\n",
       "16    @Wakashimazu @XboxGamePass @disneyplus \"Esta o...\n",
       "17    RT @disneygobr: Confira o Pôster Oficial de ‘E...\n",
       "18               Disney, te amo https://t.co/9fDim9S3Rx\n",
       "19    RT @hospicionerd: 🛑RUMOR \\n\\nWandavison pode t...\n",
       "Name: text, dtype: object"
      ]
     },
     "metadata": {},
     "execution_count": 24
    }
   ],
   "source": [
    "df1.text"
   ]
  },
  {
   "cell_type": "code",
   "execution_count": 25,
   "metadata": {},
   "outputs": [
    {
     "output_type": "execute_result",
     "data": {
      "text/plain": [
       "RT @xbox_pt: Perks\\nPerk\\nPer\\nPe\\nP\\nPl\\nPlu\\nPlus\\nDisney+\\n@DisneyPlus (30 days) chega aos Xbox Game Pass Ultimate Perks HOJE https://t.co/KjtIlF…    2\n",
       "📣 Confirmado: A série do Disney+ onde a Tini vai participar chama-se “Siempre fui yo” \\n \\n#tinistoessel #disneyplus… https://t.co/oXVuHtFvO8            1\n",
       "@XboxGamePass @Xbox @disneyplus Uhhh vou ter tanto trial pra usar https://t.co/XpFwF0Ic9K                                                                1\n",
       "Eu nem acredito que faltam apenas 7 dias, 8 horas, 52 minutos e 45 segundos para o #DisneyPlus chegar no Brasil!!!! https://t.co/DZs6qpKffT              1\n",
       "RT @DisneyPlusBR: O #DisneyPlus está chegando! Oferta de pré-venda por tempo limitado. Garanta já.                                                       1\n",
       "@Wakashimazu @XboxGamePass @disneyplus \"Esta oferta não se aplica a X países, entre eles o Brasil\"\\n\\nVai vendo o fom aí jajaja (ou não?) xD             1\n",
       "RT @disneygobr: Confira o Pôster Oficial de ‘Escola de Balé Americano’ uma série documental original, disponível em 18 de Dezembro, só no #…             1\n",
       "Meu DNA Disney+ é a combinação perfeita de Pinóquio, Gavião Arqueiro e Merida! Descubra a sua versão em: https://t.co/LTvvQXT8FZ #DisneyPlus             1\n",
       "RT @fcotinispt: 📣 Confirmado: A série do Disney+ onde a Tini vai participar chama-se “Siempre fui yo” \\n \\n#tinistoessel #disneyplus #siempre…           1\n",
       "@jon_flp @XboxGamePass @disneyplus É trial ou definitivo isso aí?                                                                                        1\n",
       "queria uma conta no disneyplus pra assistir esse especial...... https://t.co/ym0JipRESS                                                                  1\n",
       "Não tem #DisneyPlus pro Brasil (por enquanto...), mas temos mais jogos no #GamePass! https://t.co/CBNow89E6L                                             1\n",
       "RT @hospicionerd: 🛑RUMOR \\n\\nWandavison pode ter sido adiado para janeiro de 2021, apesar de suas filmagem já terem sido oficialmente finaliz…           1\n",
       "Disney, te amo https://t.co/9fDim9S3Rx                                                                                                                   1\n",
       "RT @DisneyPlusBR: Assista todas as suas histórias favoritas em até 4 telas simultaneamente, onde e quando quiser. #DisneyPlus, disponível a…             1\n",
       "@ElDatoDisney @disneyplusla @disneyplus @DisneyPrensaMX @RickyStrauss @cecimendoncaok @HamiltonMusical Cada vez falta Menos!!!                           1\n",
       "@bruhrj_ @XboxGamePass @disneyplus Continuo achando que vou ganhar a assinatura pelo meio que deveria evitar mas so… https://t.co/LsdH95kGRW             1\n",
       "@xbox_pt @disneyplus continuo a aguardar explicações por parte da xbox mas se quiserem eu posso publicar aqui na vo… https://t.co/bLRWP432RL             1\n",
       "As visões da Raven e Hannah Montana que me esperam pois vou maratonar muito nessas férias. #DisneyPlus https://t.co/rxeFA133SP                           1\n",
       "Name: text, dtype: int64"
      ]
     },
     "metadata": {},
     "execution_count": 25
    }
   ],
   "source": [
    "df1.text.value_counts()"
   ]
  }
 ],
 "metadata": {
  "kernelspec": {
   "name": "Python 3.8.0 64-bit",
   "display_name": "Python 3.8.0 64-bit",
   "metadata": {
    "interpreter": {
     "hash": "e7459a5cf6012fa133a480051afadd7ed43d2e8839e92a5df89c7e4974c008e2"
    }
   }
  },
  "language_info": {
   "codemirror_mode": {
    "name": "ipython",
    "version": 3
   },
   "file_extension": ".py",
   "mimetype": "text/x-python",
   "name": "python",
   "nbconvert_exporter": "python",
   "pygments_lexer": "ipython3",
   "version": "3.8.0-final"
  }
 },
 "nbformat": 4,
 "nbformat_minor": 2
}